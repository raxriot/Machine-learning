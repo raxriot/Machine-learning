{
 "cells": [
  {
   "cell_type": "code",
   "execution_count": 1,
   "metadata": {},
   "outputs": [],
   "source": [
    "import pandas as pd\n",
    "import numpy as np\n",
    "import plotly.express as px"
   ]
  },
  {
   "cell_type": "code",
   "execution_count": 2,
   "metadata": {},
   "outputs": [],
   "source": [
    "pd.options.plotting.backend = 'plotly'"
   ]
  },
  {
   "cell_type": "code",
   "execution_count": 3,
   "metadata": {},
   "outputs": [
    {
     "data": {
      "text/html": [
       "<div>\n",
       "<style scoped>\n",
       "    .dataframe tbody tr th:only-of-type {\n",
       "        vertical-align: middle;\n",
       "    }\n",
       "\n",
       "    .dataframe tbody tr th {\n",
       "        vertical-align: top;\n",
       "    }\n",
       "\n",
       "    .dataframe thead th {\n",
       "        text-align: right;\n",
       "    }\n",
       "</style>\n",
       "<table border=\"1\" class=\"dataframe\">\n",
       "  <thead>\n",
       "    <tr style=\"text-align: right;\">\n",
       "      <th></th>\n",
       "      <th>sepal_length</th>\n",
       "      <th>sepal_width</th>\n",
       "      <th>petal_length</th>\n",
       "      <th>petal_width</th>\n",
       "      <th>species</th>\n",
       "      <th>species_id</th>\n",
       "    </tr>\n",
       "  </thead>\n",
       "  <tbody>\n",
       "    <tr>\n",
       "      <th>0</th>\n",
       "      <td>5.1</td>\n",
       "      <td>3.5</td>\n",
       "      <td>1.4</td>\n",
       "      <td>0.2</td>\n",
       "      <td>setosa</td>\n",
       "      <td>1</td>\n",
       "    </tr>\n",
       "    <tr>\n",
       "      <th>1</th>\n",
       "      <td>4.9</td>\n",
       "      <td>3.0</td>\n",
       "      <td>1.4</td>\n",
       "      <td>0.2</td>\n",
       "      <td>setosa</td>\n",
       "      <td>1</td>\n",
       "    </tr>\n",
       "    <tr>\n",
       "      <th>2</th>\n",
       "      <td>4.7</td>\n",
       "      <td>3.2</td>\n",
       "      <td>1.3</td>\n",
       "      <td>0.2</td>\n",
       "      <td>setosa</td>\n",
       "      <td>1</td>\n",
       "    </tr>\n",
       "    <tr>\n",
       "      <th>3</th>\n",
       "      <td>4.6</td>\n",
       "      <td>3.1</td>\n",
       "      <td>1.5</td>\n",
       "      <td>0.2</td>\n",
       "      <td>setosa</td>\n",
       "      <td>1</td>\n",
       "    </tr>\n",
       "    <tr>\n",
       "      <th>4</th>\n",
       "      <td>5.0</td>\n",
       "      <td>3.6</td>\n",
       "      <td>1.4</td>\n",
       "      <td>0.2</td>\n",
       "      <td>setosa</td>\n",
       "      <td>1</td>\n",
       "    </tr>\n",
       "    <tr>\n",
       "      <th>...</th>\n",
       "      <td>...</td>\n",
       "      <td>...</td>\n",
       "      <td>...</td>\n",
       "      <td>...</td>\n",
       "      <td>...</td>\n",
       "      <td>...</td>\n",
       "    </tr>\n",
       "    <tr>\n",
       "      <th>145</th>\n",
       "      <td>6.7</td>\n",
       "      <td>3.0</td>\n",
       "      <td>5.2</td>\n",
       "      <td>2.3</td>\n",
       "      <td>virginica</td>\n",
       "      <td>3</td>\n",
       "    </tr>\n",
       "    <tr>\n",
       "      <th>146</th>\n",
       "      <td>6.3</td>\n",
       "      <td>2.5</td>\n",
       "      <td>5.0</td>\n",
       "      <td>1.9</td>\n",
       "      <td>virginica</td>\n",
       "      <td>3</td>\n",
       "    </tr>\n",
       "    <tr>\n",
       "      <th>147</th>\n",
       "      <td>6.5</td>\n",
       "      <td>3.0</td>\n",
       "      <td>5.2</td>\n",
       "      <td>2.0</td>\n",
       "      <td>virginica</td>\n",
       "      <td>3</td>\n",
       "    </tr>\n",
       "    <tr>\n",
       "      <th>148</th>\n",
       "      <td>6.2</td>\n",
       "      <td>3.4</td>\n",
       "      <td>5.4</td>\n",
       "      <td>2.3</td>\n",
       "      <td>virginica</td>\n",
       "      <td>3</td>\n",
       "    </tr>\n",
       "    <tr>\n",
       "      <th>149</th>\n",
       "      <td>5.9</td>\n",
       "      <td>3.0</td>\n",
       "      <td>5.1</td>\n",
       "      <td>1.8</td>\n",
       "      <td>virginica</td>\n",
       "      <td>3</td>\n",
       "    </tr>\n",
       "  </tbody>\n",
       "</table>\n",
       "<p>150 rows × 6 columns</p>\n",
       "</div>"
      ],
      "text/plain": [
       "     sepal_length  sepal_width  petal_length  petal_width    species  \\\n",
       "0             5.1          3.5           1.4          0.2     setosa   \n",
       "1             4.9          3.0           1.4          0.2     setosa   \n",
       "2             4.7          3.2           1.3          0.2     setosa   \n",
       "3             4.6          3.1           1.5          0.2     setosa   \n",
       "4             5.0          3.6           1.4          0.2     setosa   \n",
       "..            ...          ...           ...          ...        ...   \n",
       "145           6.7          3.0           5.2          2.3  virginica   \n",
       "146           6.3          2.5           5.0          1.9  virginica   \n",
       "147           6.5          3.0           5.2          2.0  virginica   \n",
       "148           6.2          3.4           5.4          2.3  virginica   \n",
       "149           5.9          3.0           5.1          1.8  virginica   \n",
       "\n",
       "     species_id  \n",
       "0             1  \n",
       "1             1  \n",
       "2             1  \n",
       "3             1  \n",
       "4             1  \n",
       "..          ...  \n",
       "145           3  \n",
       "146           3  \n",
       "147           3  \n",
       "148           3  \n",
       "149           3  \n",
       "\n",
       "[150 rows x 6 columns]"
      ]
     },
     "execution_count": 3,
     "metadata": {},
     "output_type": "execute_result"
    }
   ],
   "source": [
    "iris_df = px.data.iris()\n",
    "iris_df"
   ]
  },
  {
   "cell_type": "code",
   "execution_count": 4,
   "metadata": {},
   "outputs": [],
   "source": [
    "from sklearn.preprocessing import StandardScaler\n",
    "from sklearn.decomposition import PCA, KernelPCA\n",
    "from sklearn.discriminant_analysis import LinearDiscriminantAnalysis\n",
    "from sklearn.manifold import TSNE"
   ]
  },
  {
   "cell_type": "code",
   "execution_count": 5,
   "metadata": {},
   "outputs": [
    {
     "data": {
      "text/html": [
       "<div>\n",
       "<style scoped>\n",
       "    .dataframe tbody tr th:only-of-type {\n",
       "        vertical-align: middle;\n",
       "    }\n",
       "\n",
       "    .dataframe tbody tr th {\n",
       "        vertical-align: top;\n",
       "    }\n",
       "\n",
       "    .dataframe thead th {\n",
       "        text-align: right;\n",
       "    }\n",
       "</style>\n",
       "<table border=\"1\" class=\"dataframe\">\n",
       "  <thead>\n",
       "    <tr style=\"text-align: right;\">\n",
       "      <th></th>\n",
       "      <th>sepal_length</th>\n",
       "      <th>sepal_width</th>\n",
       "      <th>petal_length</th>\n",
       "      <th>petal_width</th>\n",
       "    </tr>\n",
       "  </thead>\n",
       "  <tbody>\n",
       "    <tr>\n",
       "      <th>0</th>\n",
       "      <td>5.1</td>\n",
       "      <td>3.5</td>\n",
       "      <td>1.4</td>\n",
       "      <td>0.2</td>\n",
       "    </tr>\n",
       "    <tr>\n",
       "      <th>1</th>\n",
       "      <td>4.9</td>\n",
       "      <td>3.0</td>\n",
       "      <td>1.4</td>\n",
       "      <td>0.2</td>\n",
       "    </tr>\n",
       "    <tr>\n",
       "      <th>2</th>\n",
       "      <td>4.7</td>\n",
       "      <td>3.2</td>\n",
       "      <td>1.3</td>\n",
       "      <td>0.2</td>\n",
       "    </tr>\n",
       "    <tr>\n",
       "      <th>3</th>\n",
       "      <td>4.6</td>\n",
       "      <td>3.1</td>\n",
       "      <td>1.5</td>\n",
       "      <td>0.2</td>\n",
       "    </tr>\n",
       "    <tr>\n",
       "      <th>4</th>\n",
       "      <td>5.0</td>\n",
       "      <td>3.6</td>\n",
       "      <td>1.4</td>\n",
       "      <td>0.2</td>\n",
       "    </tr>\n",
       "    <tr>\n",
       "      <th>...</th>\n",
       "      <td>...</td>\n",
       "      <td>...</td>\n",
       "      <td>...</td>\n",
       "      <td>...</td>\n",
       "    </tr>\n",
       "    <tr>\n",
       "      <th>145</th>\n",
       "      <td>6.7</td>\n",
       "      <td>3.0</td>\n",
       "      <td>5.2</td>\n",
       "      <td>2.3</td>\n",
       "    </tr>\n",
       "    <tr>\n",
       "      <th>146</th>\n",
       "      <td>6.3</td>\n",
       "      <td>2.5</td>\n",
       "      <td>5.0</td>\n",
       "      <td>1.9</td>\n",
       "    </tr>\n",
       "    <tr>\n",
       "      <th>147</th>\n",
       "      <td>6.5</td>\n",
       "      <td>3.0</td>\n",
       "      <td>5.2</td>\n",
       "      <td>2.0</td>\n",
       "    </tr>\n",
       "    <tr>\n",
       "      <th>148</th>\n",
       "      <td>6.2</td>\n",
       "      <td>3.4</td>\n",
       "      <td>5.4</td>\n",
       "      <td>2.3</td>\n",
       "    </tr>\n",
       "    <tr>\n",
       "      <th>149</th>\n",
       "      <td>5.9</td>\n",
       "      <td>3.0</td>\n",
       "      <td>5.1</td>\n",
       "      <td>1.8</td>\n",
       "    </tr>\n",
       "  </tbody>\n",
       "</table>\n",
       "<p>150 rows × 4 columns</p>\n",
       "</div>"
      ],
      "text/plain": [
       "     sepal_length  sepal_width  petal_length  petal_width\n",
       "0             5.1          3.5           1.4          0.2\n",
       "1             4.9          3.0           1.4          0.2\n",
       "2             4.7          3.2           1.3          0.2\n",
       "3             4.6          3.1           1.5          0.2\n",
       "4             5.0          3.6           1.4          0.2\n",
       "..            ...          ...           ...          ...\n",
       "145           6.7          3.0           5.2          2.3\n",
       "146           6.3          2.5           5.0          1.9\n",
       "147           6.5          3.0           5.2          2.0\n",
       "148           6.2          3.4           5.4          2.3\n",
       "149           5.9          3.0           5.1          1.8\n",
       "\n",
       "[150 rows x 4 columns]"
      ]
     },
     "execution_count": 5,
     "metadata": {},
     "output_type": "execute_result"
    }
   ],
   "source": [
    "X = iris_df.drop(columns=[\"species\",\"species_id\"])\n",
    "X"
   ]
  },
  {
   "cell_type": "code",
   "execution_count": 6,
   "metadata": {},
   "outputs": [],
   "source": [
    "np.set_printoptions(precision=2, suppress=True)"
   ]
  },
  {
   "cell_type": "code",
   "execution_count": 7,
   "metadata": {},
   "outputs": [
    {
     "data": {
      "application/vnd.plotly.v1+json": {
       "config": {
        "plotlyServerURL": "https://plot.ly"
       },
       "data": [
        {
         "hovertemplate": "species=setosa<br>pc1=%{x}<br>pc2=%{y}<extra></extra>",
         "legendgroup": "setosa",
         "marker": {
          "color": "#636efa",
          "symbol": "circle"
         },
         "mode": "markers",
         "name": "setosa",
         "orientation": "v",
         "showlegend": true,
         "type": "scatter",
         "x": [
          -2.2645417283949003,
          -2.0864255006161585,
          -2.367950449062526,
          -2.304197161152009,
          -2.3887774935056423,
          -2.070536807180554,
          -2.4457113396302836,
          -2.2338418587092663,
          -2.3419576764553898,
          -2.1886757552808698,
          -2.1634865562665233,
          -2.3273777541343743,
          -2.224082722045002,
          -2.639716260844629,
          -2.1922915084984305,
          -2.2514652145840666,
          -2.2027504800800863,
          -2.1901791637910524,
          -1.894074293023669,
          -2.3399490704234087,
          -1.9145563949595175,
          -2.2046453975338145,
          -2.7741697937051573,
          -1.820411563337214,
          -2.2282174994597255,
          -1.957024007341397,
          -2.052063311276687,
          -2.1681936533450217,
          -2.140305963284158,
          -2.2687901943878765,
          -2.1445544292771346,
          -1.8319381022015875,
          -2.608202867663348,
          -2.4379508590951438,
          -2.1886757552808698,
          -2.2111198968124226,
          -2.044416519319801,
          -2.1886757552808698,
          -2.435952202966019,
          -2.1705472018842706,
          -2.2865272388409306,
          -1.87170722353695,
          -2.5578344195375124,
          -1.9642792903547375,
          -2.1333728329200286,
          -2.0753575928373063,
          -2.3812582168023737,
          -2.3981916876626386,
          -2.2267812130915194,
          -2.2059541686484025
         ],
         "xaxis": "x",
         "y": [
          0.5057039027737845,
          -0.6554047293691366,
          -0.31847731084724923,
          -0.5753677125331954,
          0.6747673967025153,
          1.5185485598885131,
          0.07456267500687408,
          0.24761393175226515,
          -1.0951463625829552,
          -0.4486290483375592,
          1.0705955760377264,
          0.15858745465947596,
          -0.7091181580302263,
          -0.9382819821078541,
          1.8899785123164659,
          2.7223710765744693,
          1.5137502825462186,
          0.5143043082206927,
          1.431110706941237,
          1.1580334289850012,
          0.43046516328013795,
          0.9524573172889983,
          0.48951702650349505,
          0.10675079283540614,
          0.16218616266619695,
          -0.607892567483808,
          0.2660143119816551,
          0.5520164953235398,
          0.33664040884505414,
          -0.31487860284052827,
          -0.48394209676925903,
          0.44526683550280705,
          1.8284751927341014,
          2.185391615630893,
          -0.4486290483375592,
          -0.18433781054027884,
          0.6849564262949365,
          -0.4486290483375592,
          -0.8821694147756171,
          0.29272695496644624,
          0.4679917156709379,
          -2.3276916061149104,
          -0.45381638048979317,
          0.4973916400183834,
          1.171432111774204,
          -0.69191734713641,
          1.1506325928736667,
          -0.36239076472585713,
          1.0254825528235447,
          0.03223784527377952
         ],
         "yaxis": "y"
        },
        {
         "hovertemplate": "species=versicolor<br>pc1=%{x}<br>pc2=%{y}<extra></extra>",
         "legendgroup": "versicolor",
         "marker": {
          "color": "#EF553B",
          "symbol": "circle"
         },
         "mode": "markers",
         "name": "versicolor",
         "orientation": "v",
         "showlegend": true,
         "type": "scatter",
         "x": [
          1.1039936528045717,
          0.7324814400086804,
          1.2421095053189373,
          0.39730728282332806,
          1.0725939482015452,
          0.38445814616900187,
          0.7487150759515524,
          -0.49786338779811706,
          0.9262223675330981,
          0.004968025584319886,
          -0.12469746138036956,
          0.43873011778054677,
          0.5516339814225082,
          0.7171650662368512,
          -0.037258382965688105,
          0.8758905359406828,
          0.3480064019802087,
          0.15339254456866722,
          1.2153032092161546,
          0.15694117564425117,
          0.7382561043698957,
          0.4723696823445686,
          1.2279882140834428,
          0.6293810453149019,
          0.7004727992084582,
          0.8735369874014334,
          1.2542221905224498,
          1.3582398473872714,
          0.6621261375659377,
          -0.04728151331987973,
          0.12153420888011936,
          0.014118226051388405,
          0.23601083732659714,
          1.056691428090577,
          0.221417088330218,
          0.43178316074105316,
          1.04941335521918,
          1.0358782103228248,
          0.06706759987298043,
          0.2754250662518349,
          0.2723350662617726,
          0.6231705397262214,
          0.33000536383722684,
          -0.37362762268737515,
          0.2829443429551032,
          0.08905311031901153,
          0.22435678320860616,
          0.5738834855584669,
          -0.4570128725046741,
          0.2522444732694695
         ],
         "xaxis": "x",
         "y": [
          0.8631124458513244,
          0.5986355733419974,
          0.6148224496122868,
          -1.758168947443526,
          -0.2117579026798955,
          -0.5910624686227363,
          0.7786986113887823,
          -1.8488687712754426,
          0.030330826783381278,
          -1.029401112403088,
          -2.6580626779617607,
          -0.05888128502145434,
          -1.7725815648562548,
          -0.18543431450504372,
          -0.432795098714169,
          0.5099981510591476,
          -0.19062164665727774,
          -0.7907254562344853,
          -1.6333556445154829,
          -1.303103270172911,
          0.40247038161853593,
          -0.41660822244387946,
          -0.9409147925302722,
          -0.41681164254177194,
          -0.06349392765170211,
          0.250708610702054,
          -0.08262009981311234,
          0.3288202662704021,
          -0.22434607094346407,
          -1.0572124126050202,
          -1.563592379865578,
          -1.5733923546480597,
          -0.7759237840118164,
          -0.6369012837689368,
          -0.2808476930856401,
          0.8551369202180029,
          0.5221972645127767,
          -1.3924664843877808,
          -0.2126207348933887,
          -1.3298159131577023,
          -1.1194415241194038,
          0.027542633302294558,
          -0.9889007318191547,
          -2.017932265204173,
          -0.85395071698655,
          -0.17490854779054163,
          -0.3804846594865454,
          -0.1537199740800649,
          -1.5394645102639808,
          -0.5958607459650309
         ],
         "yaxis": "y"
        },
        {
         "hovertemplate": "species=virginica<br>pc1=%{x}<br>pc2=%{y}<extra></extra>",
         "legendgroup": "virginica",
         "marker": {
          "color": "#00cc96",
          "symbol": "circle"
         },
         "mode": "markers",
         "name": "virginica",
         "orientation": "v",
         "showlegend": true,
         "type": "scatter",
         "x": [
          1.847672594309664,
          1.1531898082521295,
          2.206349497126593,
          1.438685402326182,
          1.8678907025555844,
          2.7541967088257526,
          0.3583744748416688,
          2.303005898150319,
          2.001735299218917,
          2.2675545991022674,
          1.365909429202214,
          1.5990645856518695,
          1.884251853752074,
          1.2530865143775924,
          1.464061522985623,
          1.5918093026385287,
          1.4712801894655436,
          2.437378482193507,
          3.309141182676079,
          1.2539809866905787,
          2.0404962596630387,
          0.9739151144704741,
          2.8980644358432763,
          1.3291936913234936,
          1.7042407085196054,
          1.957727661793435,
          1.1719045079878687,
          1.019781052816263,
          1.7860088612484681,
          1.8647779127074657,
          2.435497391415143,
          2.316082411961153,
          1.860371425852316,
          1.1112717256759692,
          1.197469155118038,
          2.8009494037340286,
          1.5801552485205368,
          1.3470444243548017,
          0.9234329777663843,
          1.8535519840664405,
          2.016157200677759,
          1.9031168585994869,
          1.1531898082521295,
          2.043308439287809,
          2.0016909669349974,
          1.8705220714601254,
          1.5584918907237175,
          1.5208450639985904,
          1.3763911906419277,
          0.959298575616038
         ],
         "xaxis": "x",
         "y": [
          0.8716966617734133,
          -0.7013261138565753,
          0.5544701049349229,
          -0.05001052226888531,
          0.2911928017611694,
          0.7884322063548453,
          -1.5600945839772893,
          0.40951669522194384,
          -0.723865359312659,
          1.9214429914653552,
          0.6939480398041613,
          -0.42824883590033946,
          0.41433275795008423,
          -1.1673913352452456,
          -0.4441475694791234,
          0.6770353716018519,
          0.25319247196681577,
          2.5567573414948024,
          -0.0023613201020825313,
          -1.7175838442659774,
          0.9073987650150532,
          -0.5711743763662661,
          0.39779135917186864,
          -0.4867605419037239,
          1.0141484248357855,
          1.0033345154297777,
          -0.31889661731056773,
          0.0655429630966482,
          -0.19327279985689114,
          0.5553815315789902,
          0.24665446806897448,
          2.626183869022628,
          -0.18467239440998295,
          -0.29598610243039003,
          -0.8171677419136156,
          0.844748193784975,
          1.0724744961271224,
          0.4222559658955465,
          0.019230370546893322,
          0.672422728971604,
          0.6103970375551132,
          0.6860248318586993,
          -0.7013261138565753,
          0.8646848804720191,
          1.048550046623418,
          0.3828218376229984,
          -0.905313601407066,
          0.2667945748539111,
          1.0163619287948857,
          -0.022283944660566875
         ],
         "yaxis": "y"
        }
       ],
       "layout": {
        "legend": {
         "title": {
          "text": "species"
         },
         "tracegroupgap": 0
        },
        "template": {
         "data": {
          "bar": [
           {
            "error_x": {
             "color": "#2a3f5f"
            },
            "error_y": {
             "color": "#2a3f5f"
            },
            "marker": {
             "line": {
              "color": "#E5ECF6",
              "width": 0.5
             },
             "pattern": {
              "fillmode": "overlay",
              "size": 10,
              "solidity": 0.2
             }
            },
            "type": "bar"
           }
          ],
          "barpolar": [
           {
            "marker": {
             "line": {
              "color": "#E5ECF6",
              "width": 0.5
             },
             "pattern": {
              "fillmode": "overlay",
              "size": 10,
              "solidity": 0.2
             }
            },
            "type": "barpolar"
           }
          ],
          "carpet": [
           {
            "aaxis": {
             "endlinecolor": "#2a3f5f",
             "gridcolor": "white",
             "linecolor": "white",
             "minorgridcolor": "white",
             "startlinecolor": "#2a3f5f"
            },
            "baxis": {
             "endlinecolor": "#2a3f5f",
             "gridcolor": "white",
             "linecolor": "white",
             "minorgridcolor": "white",
             "startlinecolor": "#2a3f5f"
            },
            "type": "carpet"
           }
          ],
          "choropleth": [
           {
            "colorbar": {
             "outlinewidth": 0,
             "ticks": ""
            },
            "type": "choropleth"
           }
          ],
          "contour": [
           {
            "colorbar": {
             "outlinewidth": 0,
             "ticks": ""
            },
            "colorscale": [
             [
              0,
              "#0d0887"
             ],
             [
              0.1111111111111111,
              "#46039f"
             ],
             [
              0.2222222222222222,
              "#7201a8"
             ],
             [
              0.3333333333333333,
              "#9c179e"
             ],
             [
              0.4444444444444444,
              "#bd3786"
             ],
             [
              0.5555555555555556,
              "#d8576b"
             ],
             [
              0.6666666666666666,
              "#ed7953"
             ],
             [
              0.7777777777777778,
              "#fb9f3a"
             ],
             [
              0.8888888888888888,
              "#fdca26"
             ],
             [
              1,
              "#f0f921"
             ]
            ],
            "type": "contour"
           }
          ],
          "contourcarpet": [
           {
            "colorbar": {
             "outlinewidth": 0,
             "ticks": ""
            },
            "type": "contourcarpet"
           }
          ],
          "heatmap": [
           {
            "colorbar": {
             "outlinewidth": 0,
             "ticks": ""
            },
            "colorscale": [
             [
              0,
              "#0d0887"
             ],
             [
              0.1111111111111111,
              "#46039f"
             ],
             [
              0.2222222222222222,
              "#7201a8"
             ],
             [
              0.3333333333333333,
              "#9c179e"
             ],
             [
              0.4444444444444444,
              "#bd3786"
             ],
             [
              0.5555555555555556,
              "#d8576b"
             ],
             [
              0.6666666666666666,
              "#ed7953"
             ],
             [
              0.7777777777777778,
              "#fb9f3a"
             ],
             [
              0.8888888888888888,
              "#fdca26"
             ],
             [
              1,
              "#f0f921"
             ]
            ],
            "type": "heatmap"
           }
          ],
          "heatmapgl": [
           {
            "colorbar": {
             "outlinewidth": 0,
             "ticks": ""
            },
            "colorscale": [
             [
              0,
              "#0d0887"
             ],
             [
              0.1111111111111111,
              "#46039f"
             ],
             [
              0.2222222222222222,
              "#7201a8"
             ],
             [
              0.3333333333333333,
              "#9c179e"
             ],
             [
              0.4444444444444444,
              "#bd3786"
             ],
             [
              0.5555555555555556,
              "#d8576b"
             ],
             [
              0.6666666666666666,
              "#ed7953"
             ],
             [
              0.7777777777777778,
              "#fb9f3a"
             ],
             [
              0.8888888888888888,
              "#fdca26"
             ],
             [
              1,
              "#f0f921"
             ]
            ],
            "type": "heatmapgl"
           }
          ],
          "histogram": [
           {
            "marker": {
             "pattern": {
              "fillmode": "overlay",
              "size": 10,
              "solidity": 0.2
             }
            },
            "type": "histogram"
           }
          ],
          "histogram2d": [
           {
            "colorbar": {
             "outlinewidth": 0,
             "ticks": ""
            },
            "colorscale": [
             [
              0,
              "#0d0887"
             ],
             [
              0.1111111111111111,
              "#46039f"
             ],
             [
              0.2222222222222222,
              "#7201a8"
             ],
             [
              0.3333333333333333,
              "#9c179e"
             ],
             [
              0.4444444444444444,
              "#bd3786"
             ],
             [
              0.5555555555555556,
              "#d8576b"
             ],
             [
              0.6666666666666666,
              "#ed7953"
             ],
             [
              0.7777777777777778,
              "#fb9f3a"
             ],
             [
              0.8888888888888888,
              "#fdca26"
             ],
             [
              1,
              "#f0f921"
             ]
            ],
            "type": "histogram2d"
           }
          ],
          "histogram2dcontour": [
           {
            "colorbar": {
             "outlinewidth": 0,
             "ticks": ""
            },
            "colorscale": [
             [
              0,
              "#0d0887"
             ],
             [
              0.1111111111111111,
              "#46039f"
             ],
             [
              0.2222222222222222,
              "#7201a8"
             ],
             [
              0.3333333333333333,
              "#9c179e"
             ],
             [
              0.4444444444444444,
              "#bd3786"
             ],
             [
              0.5555555555555556,
              "#d8576b"
             ],
             [
              0.6666666666666666,
              "#ed7953"
             ],
             [
              0.7777777777777778,
              "#fb9f3a"
             ],
             [
              0.8888888888888888,
              "#fdca26"
             ],
             [
              1,
              "#f0f921"
             ]
            ],
            "type": "histogram2dcontour"
           }
          ],
          "mesh3d": [
           {
            "colorbar": {
             "outlinewidth": 0,
             "ticks": ""
            },
            "type": "mesh3d"
           }
          ],
          "parcoords": [
           {
            "line": {
             "colorbar": {
              "outlinewidth": 0,
              "ticks": ""
             }
            },
            "type": "parcoords"
           }
          ],
          "pie": [
           {
            "automargin": true,
            "type": "pie"
           }
          ],
          "scatter": [
           {
            "fillpattern": {
             "fillmode": "overlay",
             "size": 10,
             "solidity": 0.2
            },
            "type": "scatter"
           }
          ],
          "scatter3d": [
           {
            "line": {
             "colorbar": {
              "outlinewidth": 0,
              "ticks": ""
             }
            },
            "marker": {
             "colorbar": {
              "outlinewidth": 0,
              "ticks": ""
             }
            },
            "type": "scatter3d"
           }
          ],
          "scattercarpet": [
           {
            "marker": {
             "colorbar": {
              "outlinewidth": 0,
              "ticks": ""
             }
            },
            "type": "scattercarpet"
           }
          ],
          "scattergeo": [
           {
            "marker": {
             "colorbar": {
              "outlinewidth": 0,
              "ticks": ""
             }
            },
            "type": "scattergeo"
           }
          ],
          "scattergl": [
           {
            "marker": {
             "colorbar": {
              "outlinewidth": 0,
              "ticks": ""
             }
            },
            "type": "scattergl"
           }
          ],
          "scattermapbox": [
           {
            "marker": {
             "colorbar": {
              "outlinewidth": 0,
              "ticks": ""
             }
            },
            "type": "scattermapbox"
           }
          ],
          "scatterpolar": [
           {
            "marker": {
             "colorbar": {
              "outlinewidth": 0,
              "ticks": ""
             }
            },
            "type": "scatterpolar"
           }
          ],
          "scatterpolargl": [
           {
            "marker": {
             "colorbar": {
              "outlinewidth": 0,
              "ticks": ""
             }
            },
            "type": "scatterpolargl"
           }
          ],
          "scatterternary": [
           {
            "marker": {
             "colorbar": {
              "outlinewidth": 0,
              "ticks": ""
             }
            },
            "type": "scatterternary"
           }
          ],
          "surface": [
           {
            "colorbar": {
             "outlinewidth": 0,
             "ticks": ""
            },
            "colorscale": [
             [
              0,
              "#0d0887"
             ],
             [
              0.1111111111111111,
              "#46039f"
             ],
             [
              0.2222222222222222,
              "#7201a8"
             ],
             [
              0.3333333333333333,
              "#9c179e"
             ],
             [
              0.4444444444444444,
              "#bd3786"
             ],
             [
              0.5555555555555556,
              "#d8576b"
             ],
             [
              0.6666666666666666,
              "#ed7953"
             ],
             [
              0.7777777777777778,
              "#fb9f3a"
             ],
             [
              0.8888888888888888,
              "#fdca26"
             ],
             [
              1,
              "#f0f921"
             ]
            ],
            "type": "surface"
           }
          ],
          "table": [
           {
            "cells": {
             "fill": {
              "color": "#EBF0F8"
             },
             "line": {
              "color": "white"
             }
            },
            "header": {
             "fill": {
              "color": "#C8D4E3"
             },
             "line": {
              "color": "white"
             }
            },
            "type": "table"
           }
          ]
         },
         "layout": {
          "annotationdefaults": {
           "arrowcolor": "#2a3f5f",
           "arrowhead": 0,
           "arrowwidth": 1
          },
          "autotypenumbers": "strict",
          "coloraxis": {
           "colorbar": {
            "outlinewidth": 0,
            "ticks": ""
           }
          },
          "colorscale": {
           "diverging": [
            [
             0,
             "#8e0152"
            ],
            [
             0.1,
             "#c51b7d"
            ],
            [
             0.2,
             "#de77ae"
            ],
            [
             0.3,
             "#f1b6da"
            ],
            [
             0.4,
             "#fde0ef"
            ],
            [
             0.5,
             "#f7f7f7"
            ],
            [
             0.6,
             "#e6f5d0"
            ],
            [
             0.7,
             "#b8e186"
            ],
            [
             0.8,
             "#7fbc41"
            ],
            [
             0.9,
             "#4d9221"
            ],
            [
             1,
             "#276419"
            ]
           ],
           "sequential": [
            [
             0,
             "#0d0887"
            ],
            [
             0.1111111111111111,
             "#46039f"
            ],
            [
             0.2222222222222222,
             "#7201a8"
            ],
            [
             0.3333333333333333,
             "#9c179e"
            ],
            [
             0.4444444444444444,
             "#bd3786"
            ],
            [
             0.5555555555555556,
             "#d8576b"
            ],
            [
             0.6666666666666666,
             "#ed7953"
            ],
            [
             0.7777777777777778,
             "#fb9f3a"
            ],
            [
             0.8888888888888888,
             "#fdca26"
            ],
            [
             1,
             "#f0f921"
            ]
           ],
           "sequentialminus": [
            [
             0,
             "#0d0887"
            ],
            [
             0.1111111111111111,
             "#46039f"
            ],
            [
             0.2222222222222222,
             "#7201a8"
            ],
            [
             0.3333333333333333,
             "#9c179e"
            ],
            [
             0.4444444444444444,
             "#bd3786"
            ],
            [
             0.5555555555555556,
             "#d8576b"
            ],
            [
             0.6666666666666666,
             "#ed7953"
            ],
            [
             0.7777777777777778,
             "#fb9f3a"
            ],
            [
             0.8888888888888888,
             "#fdca26"
            ],
            [
             1,
             "#f0f921"
            ]
           ]
          },
          "colorway": [
           "#636efa",
           "#EF553B",
           "#00cc96",
           "#ab63fa",
           "#FFA15A",
           "#19d3f3",
           "#FF6692",
           "#B6E880",
           "#FF97FF",
           "#FECB52"
          ],
          "font": {
           "color": "#2a3f5f"
          },
          "geo": {
           "bgcolor": "white",
           "lakecolor": "white",
           "landcolor": "#E5ECF6",
           "showlakes": true,
           "showland": true,
           "subunitcolor": "white"
          },
          "hoverlabel": {
           "align": "left"
          },
          "hovermode": "closest",
          "mapbox": {
           "style": "light"
          },
          "paper_bgcolor": "white",
          "plot_bgcolor": "#E5ECF6",
          "polar": {
           "angularaxis": {
            "gridcolor": "white",
            "linecolor": "white",
            "ticks": ""
           },
           "bgcolor": "#E5ECF6",
           "radialaxis": {
            "gridcolor": "white",
            "linecolor": "white",
            "ticks": ""
           }
          },
          "scene": {
           "xaxis": {
            "backgroundcolor": "#E5ECF6",
            "gridcolor": "white",
            "gridwidth": 2,
            "linecolor": "white",
            "showbackground": true,
            "ticks": "",
            "zerolinecolor": "white"
           },
           "yaxis": {
            "backgroundcolor": "#E5ECF6",
            "gridcolor": "white",
            "gridwidth": 2,
            "linecolor": "white",
            "showbackground": true,
            "ticks": "",
            "zerolinecolor": "white"
           },
           "zaxis": {
            "backgroundcolor": "#E5ECF6",
            "gridcolor": "white",
            "gridwidth": 2,
            "linecolor": "white",
            "showbackground": true,
            "ticks": "",
            "zerolinecolor": "white"
           }
          },
          "shapedefaults": {
           "line": {
            "color": "#2a3f5f"
           }
          },
          "ternary": {
           "aaxis": {
            "gridcolor": "white",
            "linecolor": "white",
            "ticks": ""
           },
           "baxis": {
            "gridcolor": "white",
            "linecolor": "white",
            "ticks": ""
           },
           "bgcolor": "#E5ECF6",
           "caxis": {
            "gridcolor": "white",
            "linecolor": "white",
            "ticks": ""
           }
          },
          "title": {
           "x": 0.05
          },
          "xaxis": {
           "automargin": true,
           "gridcolor": "white",
           "linecolor": "white",
           "ticks": "",
           "title": {
            "standoff": 15
           },
           "zerolinecolor": "white",
           "zerolinewidth": 2
          },
          "yaxis": {
           "automargin": true,
           "gridcolor": "white",
           "linecolor": "white",
           "ticks": "",
           "title": {
            "standoff": 15
           },
           "zerolinecolor": "white",
           "zerolinewidth": 2
          }
         }
        },
        "title": {
         "text": "PCA"
        },
        "xaxis": {
         "anchor": "y",
         "domain": [
          0,
          1
         ],
         "title": {
          "text": "pc1"
         }
        },
        "yaxis": {
         "anchor": "x",
         "domain": [
          0,
          1
         ],
         "title": {
          "text": "pc2"
         }
        }
       }
      }
     },
     "metadata": {},
     "output_type": "display_data"
    }
   ],
   "source": [
    "scaler = StandardScaler()\n",
    "pca = PCA(n_components=2)\n",
    "X_scaled = scaler.fit_transform(X)\n",
    "X_pca = pca.fit_transform(X_scaled)\n",
    "X_pca = pd.DataFrame(X_pca, columns=[\"pc1\", \"pc2\"])\n",
    "X_pca = pd.concat([X_pca, iris_df[\"species\"]], axis=1)\n",
    "X_pca.plot.scatter(x=\"pc1\", y=\"pc2\", color=\"species\", title=\"PCA\")"
   ]
  },
  {
   "cell_type": "code",
   "execution_count": 8,
   "metadata": {},
   "outputs": [
    {
     "data": {
      "application/vnd.plotly.v1+json": {
       "config": {
        "plotlyServerURL": "https://plot.ly"
       },
       "data": [
        {
         "hovertemplate": "species=setosa<br>pc1=%{x}<br>pc2=%{y}<br>pc3=%{z}<extra></extra>",
         "legendgroup": "setosa",
         "marker": {
          "color": "#636efa",
          "symbol": "circle"
         },
         "mode": "markers",
         "name": "setosa",
         "scene": "scene",
         "showlegend": true,
         "type": "scatter3d",
         "x": [
          -2.264541728394899,
          -2.086425500616169,
          -2.367950449062526,
          -2.3041971611520093,
          -2.3887774935056427,
          -2.0705368071805537,
          -2.4457113396302836,
          -2.2338418587092663,
          -2.3419576764553907,
          -2.18867575528087,
          -2.1634865562665233,
          -2.3273777541343743,
          -2.224082722045003,
          -2.6397162608446307,
          -2.1922915084984305,
          -2.2514652145840657,
          -2.202750480080087,
          -2.1901791637910533,
          -1.8940742930236685,
          -2.3399490704234096,
          -1.9145563949595177,
          -2.2046453975338154,
          -2.7741697937051586,
          -1.8204115633372144,
          -2.2282174994597255,
          -1.9570240073413974,
          -2.0520633112766866,
          -2.1681936533450217,
          -2.1403059632841583,
          -2.2687901943878774,
          -2.144554429277135,
          -1.831938102201588,
          -2.6082028676633486,
          -2.4379508590951433,
          -2.1886757552808707,
          -2.2111198968124226,
          -2.0444165193198014,
          -2.1886757552808707,
          -2.4359522029660208,
          -2.170547201884271,
          -2.2865272388409306,
          -1.8717072235369514,
          -2.557834419537513,
          -1.964279290354738,
          -2.1333728329200286,
          -2.0753575928373067,
          -2.3812582168023733,
          -2.398191687662639,
          -2.2267812130915194,
          -2.205954168648403
         ],
         "y": [
          0.5057039027737847,
          -0.6554047293691361,
          -0.3184773108472531,
          -0.5753677125331952,
          0.6747673967025158,
          1.518548559888514,
          0.07456267500687418,
          0.24761393175226534,
          -1.0951463625829552,
          -0.4486290483375593,
          1.0705955760377268,
          0.15858745465947652,
          -0.7091181580302265,
          -0.9382819821078539,
          1.8899785123164663,
          2.72237107657447,
          1.5137502825462195,
          0.5143043082206934,
          1.4311107069412377,
          1.158033428985002,
          0.4304651632801384,
          0.9524573172889993,
          0.4895170265034958,
          0.10675079283540653,
          0.16218616266619737,
          -0.6078925674838082,
          0.26601431198165554,
          0.5520164953235402,
          0.3366404088450545,
          -0.3148786028405278,
          -0.48394209676925914,
          0.4452668355028075,
          1.8284751927341027,
          2.185391615630894,
          -0.44862904833755907,
          -0.1843378105402787,
          0.6849564262949375,
          -0.44862904833755907,
          -0.8821694147756166,
          0.29272695496644663,
          0.46799171567093845,
          -2.3276916061149113,
          -0.45381638048979245,
          0.49739164001838393,
          1.171432111774205,
          -0.6919173471364097,
          1.1506325928736678,
          -0.362390764725857,
          1.0254825528235458,
          0.03223784527378002
         ],
         "z": [
          -0.12194334778175692,
          -0.22725083239924557,
          0.05147962364496553,
          0.09886044443740505,
          0.021427848973115147,
          0.030684258280724956,
          0.34219763621375404,
          -0.08257446445485125,
          0.15356239869462515,
          -0.2465595223886084,
          -0.2640093733471046,
          0.10016561562692809,
          -0.223214513992762,
          0.18957003015127116,
          -0.46948009463594786,
          0.03260379665903256,
          -0.0013634915813944724,
          -0.03861559488011986,
          -0.370742833992034,
          0.13741771892565469,
          -0.41600687475629017,
          0.1647383463805433,
          0.3388363843434941,
          0.04006147242624731,
          0.124201428023517,
          -0.2985910287763142,
          0.09209297881395327,
          -0.20129548162435232,
          -0.26531454453662995,
          0.0755154360415563,
          -0.06785576071331677,
          -0.26537524388407535,
          0.05141951815449944,
          -0.0793497548870186,
          -0.24655952238860868,
          -0.21862452774493685,
          -0.4794115704797858,
          -0.24655952238860848,
          0.2015575866758434,
          -0.16993853576297513,
          0.04073653896247452,
          -0.19452860985788065,
          0.3135718375693399,
          0.31475561006397523,
          0.25279322168941126,
          -0.05655900818948723,
          0.06210190348954671,
          0.1468556324186209,
          -0.17664530203898043,
          -0.14659352736712936
         ]
        },
        {
         "hovertemplate": "species=versicolor<br>pc1=%{x}<br>pc2=%{y}<br>pc3=%{z}<extra></extra>",
         "legendgroup": "versicolor",
         "marker": {
          "color": "#EF553B",
          "symbol": "circle"
         },
         "mode": "markers",
         "name": "versicolor",
         "scene": "scene",
         "showlegend": true,
         "type": "scatter3d",
         "x": [
          1.1039936528045728,
          0.7324814400086809,
          1.242109505318938,
          0.3973072828233274,
          1.0725939482015452,
          0.3844581461690018,
          0.7487150759515528,
          -0.49786338779811773,
          0.9262223675330982,
          0.004968025584319536,
          -0.12469746138037051,
          0.4387301177805469,
          0.5516339814225079,
          0.7171650662368515,
          -0.037258382965688314,
          0.875890535940683,
          0.34800640198020877,
          0.15339254456866697,
          1.2153032092161544,
          0.1569411756442507,
          0.7382561043698963,
          0.4723696823445685,
          1.227988214083443,
          0.6293810453149021,
          0.7004727992084583,
          0.8735369874014337,
          1.2542221905224504,
          1.3582398473872717,
          0.6621261375659377,
          -0.04728151331988016,
          0.12153420888011882,
          0.014118226051387826,
          0.23601083732659686,
          1.0566914280905768,
          0.22141708833021803,
          0.43178316074105355,
          1.0494133552191802,
          1.0358782103228243,
          0.06706759987298033,
          0.2754250662518345,
          0.2723350662617723,
          0.6231705397262217,
          0.3300053638372266,
          -0.37362762268737604,
          0.2829443429551029,
          0.08905311031901147,
          0.22435678320860614,
          0.573883485558467,
          -0.4570128725046749,
          0.2522444732694693
         ],
         "y": [
          0.8631124458513246,
          0.5986355733419976,
          0.6148224496122868,
          -1.7581689474435271,
          -0.21175790267989583,
          -0.5910624686227367,
          0.7786986113887825,
          -1.848868771275443,
          0.030330826783380893,
          -1.0294011124030882,
          -2.658062677961761,
          -0.05888128502145439,
          -1.7725815648562555,
          -0.185434314505044,
          -0.4327950987141692,
          0.5099981510591476,
          -0.1906216466572778,
          -0.7907254562344859,
          -1.6333556445154838,
          -1.3031032701729117,
          0.4024703816185361,
          -0.41660822244387974,
          -0.940914792530273,
          -0.41681164254177244,
          -0.06349392765170234,
          0.250708610702054,
          -0.08262009981311283,
          0.3288202662704019,
          -0.2243460709434643,
          -1.0572124126050209,
          -1.563592379865578,
          -1.57339235464806,
          -0.7759237840118166,
          -0.6369012837689373,
          -0.28084769308564017,
          0.8551369202180032,
          0.5221972645127767,
          -1.3924664843877816,
          -0.21262073489338879,
          -1.3298159131577028,
          -1.1194415241194045,
          0.02754263330229444,
          -0.988900731819155,
          -2.017932265204174,
          -0.8539507169865502,
          -0.17490854779054174,
          -0.38048465948654553,
          -0.1537199740800652,
          -1.5394645102639812,
          -0.5958607459650314
         ],
         "z": [
          -0.6855551077942384,
          -0.09406680197491353,
          -0.5548465341001653,
          -0.018569482353449476,
          -0.3974474376045007,
          0.1267976895916916,
          0.1486560226126564,
          0.2555552499784254,
          -0.5954598892691505,
          0.5428670487940243,
          -0.0398134481856318,
          0.20670349127562343,
          -0.761380223045732,
          -0.06729984236136125,
          0.19806144915679608,
          -0.5035058317132024,
          0.4928315175965874,
          -0.2986045157302116,
          -0.47940991382614584,
          -0.1685867460368813,
          0.6167726256672105,
          -0.2627182829684555,
          -0.36670485893190635,
          -0.28996247361138383,
          -0.444767559049492,
          -0.4721488858518254,
          -0.7268435294994521,
          -0.2614580736618598,
          0.08736810691734023,
          -0.3153191946620146,
          -0.14524173764103548,
          -0.2365814280082023,
          -0.1479728848579971,
          0.1067532337186602,
          0.6675596602128356,
          0.45073148705271854,
          -0.3961422664149755,
          -0.6854343029563262,
          0.2941282619311935,
          0.09344476854004702,
          0.09817189094727745,
          -0.01930465438014306,
          -0.19596807283921522,
          0.112184053223553,
          0.13411882305647893,
          0.13144837518696123,
          0.15876900264185015,
          -0.270039416433243,
          0.1961261733139726,
          0.09474993972957209
         ]
        },
        {
         "hovertemplate": "species=virginica<br>pc1=%{x}<br>pc2=%{y}<br>pc3=%{z}<extra></extra>",
         "legendgroup": "virginica",
         "marker": {
          "color": "#00cc96",
          "symbol": "circle"
         },
         "mode": "markers",
         "name": "virginica",
         "scene": "scene",
         "showlegend": true,
         "type": "scatter3d",
         "x": [
          1.8476725943096644,
          1.1531898082521295,
          2.206349497126594,
          1.4386854023261824,
          1.8678907025555853,
          2.7541967088257535,
          0.35837447484166834,
          2.3030058981503196,
          2.001735299218917,
          2.2675545991022683,
          1.3659094292022143,
          1.59906458565187,
          1.884251853752075,
          1.2530865143775924,
          1.464061522985623,
          1.591809302638529,
          1.471280189465544,
          2.4373784821935085,
          3.30914118267608,
          1.2539809866905784,
          2.04049625966304,
          0.9739151144704742,
          2.8980644358432768,
          1.3291936913234939,
          1.704240708519606,
          1.9577276617934356,
          1.171904507987869,
          1.0197810528162632,
          1.7860088612484688,
          1.8647779127074662,
          2.435497391415144,
          2.3160824119611547,
          1.8603714258523167,
          1.1112717256759692,
          1.1974691551180383,
          2.8009494037340295,
          1.5801552485205377,
          1.347044424354802,
          0.9234329777663844,
          1.8535519840664416,
          2.016157200677759,
          1.9031168585994873,
          1.1531898082521297,
          2.04330843928781,
          2.001690966934998,
          1.8705220714601263,
          1.5584918907237175,
          1.5208450639985909,
          1.3763911906419284,
          0.9592985756160385
         ],
         "y": [
          0.8716966617734137,
          -0.7013261138565756,
          0.5544701049349229,
          -0.050010522268885624,
          0.29119280176116924,
          0.7884322063548452,
          -1.5600945839772897,
          0.40951669522194345,
          -0.7238653593126598,
          1.9214429914653555,
          0.6939480398041612,
          -0.42824883590034,
          0.41433275795008434,
          -1.167391335245246,
          -0.44414756947912387,
          0.6770353716018519,
          0.25319247196681566,
          2.556757341494804,
          -0.0023613201020831255,
          -1.7175838442659785,
          0.9073987650150535,
          -0.5711743763662662,
          0.39779135917186803,
          -0.4867605419037244,
          1.0141484248357857,
          1.0033345154297777,
          -0.3188966173105681,
          0.06554296309664821,
          -0.1932727998568914,
          0.5553815315789898,
          0.24665446806897393,
          2.6261838690226282,
          -0.1846723944099834,
          -0.29598610243039036,
          -0.8171677419136166,
          0.8447481937849747,
          1.0724744961271229,
          0.4222559658955463,
          0.019230370546893243,
          0.6724227289716038,
          0.6103970375551132,
          0.6860248318586993,
          -0.7013261138565756,
          0.864684880472019,
          1.0485500466234183,
          0.3828218376229984,
          -0.9053136014070664,
          0.2667945748539109,
          1.0163619287948857,
          -0.02228394466056699
         ],
         "z": [
          1.002760985779278,
          0.5314646350398209,
          -0.20549591009804052,
          0.1633904638187066,
          0.39400433318681366,
          -0.5862327043799545,
          0.9909998953229922,
          -0.6541666870038298,
          -0.39407044826972504,
          0.39251765781193176,
          0.283279516018327,
          0.02330408212213292,
          0.024548553964213963,
          0.5821302708905562,
          1.0041105249947542,
          0.6366507209624219,
          0.036657509183675954,
          -0.13420008174692727,
          -0.7069339592752089,
          -0.2646220838822478,
          0.23187811428391916,
          0.829503781073396,
          -0.8609268420176825,
          -0.004707349333498432,
          0.2959578765436421,
          -0.4228170517520508,
          0.13065190995584353,
          0.33804216962299527,
          0.2700025257687453,
          -0.7175106833798814,
          -0.7302340057881259,
          -0.49961954256304036,
          0.3533302786703816,
          -0.18265960766060196,
          -0.1632137815118374,
          -0.5470009572124547,
          0.9433926084622702,
          0.18002870593854806,
          0.41739430346558976,
          -0.014820329362692668,
          0.4259149468895273,
          0.12779936404399134,
          0.531464635039821,
          0.3352660605231042,
          0.6292688881501904,
          0.2545323186790221,
          -0.025381909859828158,
          0.17927720259036048,
          0.9314050519376978,
          0.5287941871703035
         ]
        }
       ],
       "layout": {
        "legend": {
         "title": {
          "text": "species"
         },
         "tracegroupgap": 0
        },
        "scene": {
         "domain": {
          "x": [
           0,
           1
          ],
          "y": [
           0,
           1
          ]
         },
         "xaxis": {
          "title": {
           "text": "pc1"
          }
         },
         "yaxis": {
          "title": {
           "text": "pc2"
          }
         },
         "zaxis": {
          "title": {
           "text": "pc3"
          }
         }
        },
        "template": {
         "data": {
          "bar": [
           {
            "error_x": {
             "color": "#2a3f5f"
            },
            "error_y": {
             "color": "#2a3f5f"
            },
            "marker": {
             "line": {
              "color": "#E5ECF6",
              "width": 0.5
             },
             "pattern": {
              "fillmode": "overlay",
              "size": 10,
              "solidity": 0.2
             }
            },
            "type": "bar"
           }
          ],
          "barpolar": [
           {
            "marker": {
             "line": {
              "color": "#E5ECF6",
              "width": 0.5
             },
             "pattern": {
              "fillmode": "overlay",
              "size": 10,
              "solidity": 0.2
             }
            },
            "type": "barpolar"
           }
          ],
          "carpet": [
           {
            "aaxis": {
             "endlinecolor": "#2a3f5f",
             "gridcolor": "white",
             "linecolor": "white",
             "minorgridcolor": "white",
             "startlinecolor": "#2a3f5f"
            },
            "baxis": {
             "endlinecolor": "#2a3f5f",
             "gridcolor": "white",
             "linecolor": "white",
             "minorgridcolor": "white",
             "startlinecolor": "#2a3f5f"
            },
            "type": "carpet"
           }
          ],
          "choropleth": [
           {
            "colorbar": {
             "outlinewidth": 0,
             "ticks": ""
            },
            "type": "choropleth"
           }
          ],
          "contour": [
           {
            "colorbar": {
             "outlinewidth": 0,
             "ticks": ""
            },
            "colorscale": [
             [
              0,
              "#0d0887"
             ],
             [
              0.1111111111111111,
              "#46039f"
             ],
             [
              0.2222222222222222,
              "#7201a8"
             ],
             [
              0.3333333333333333,
              "#9c179e"
             ],
             [
              0.4444444444444444,
              "#bd3786"
             ],
             [
              0.5555555555555556,
              "#d8576b"
             ],
             [
              0.6666666666666666,
              "#ed7953"
             ],
             [
              0.7777777777777778,
              "#fb9f3a"
             ],
             [
              0.8888888888888888,
              "#fdca26"
             ],
             [
              1,
              "#f0f921"
             ]
            ],
            "type": "contour"
           }
          ],
          "contourcarpet": [
           {
            "colorbar": {
             "outlinewidth": 0,
             "ticks": ""
            },
            "type": "contourcarpet"
           }
          ],
          "heatmap": [
           {
            "colorbar": {
             "outlinewidth": 0,
             "ticks": ""
            },
            "colorscale": [
             [
              0,
              "#0d0887"
             ],
             [
              0.1111111111111111,
              "#46039f"
             ],
             [
              0.2222222222222222,
              "#7201a8"
             ],
             [
              0.3333333333333333,
              "#9c179e"
             ],
             [
              0.4444444444444444,
              "#bd3786"
             ],
             [
              0.5555555555555556,
              "#d8576b"
             ],
             [
              0.6666666666666666,
              "#ed7953"
             ],
             [
              0.7777777777777778,
              "#fb9f3a"
             ],
             [
              0.8888888888888888,
              "#fdca26"
             ],
             [
              1,
              "#f0f921"
             ]
            ],
            "type": "heatmap"
           }
          ],
          "heatmapgl": [
           {
            "colorbar": {
             "outlinewidth": 0,
             "ticks": ""
            },
            "colorscale": [
             [
              0,
              "#0d0887"
             ],
             [
              0.1111111111111111,
              "#46039f"
             ],
             [
              0.2222222222222222,
              "#7201a8"
             ],
             [
              0.3333333333333333,
              "#9c179e"
             ],
             [
              0.4444444444444444,
              "#bd3786"
             ],
             [
              0.5555555555555556,
              "#d8576b"
             ],
             [
              0.6666666666666666,
              "#ed7953"
             ],
             [
              0.7777777777777778,
              "#fb9f3a"
             ],
             [
              0.8888888888888888,
              "#fdca26"
             ],
             [
              1,
              "#f0f921"
             ]
            ],
            "type": "heatmapgl"
           }
          ],
          "histogram": [
           {
            "marker": {
             "pattern": {
              "fillmode": "overlay",
              "size": 10,
              "solidity": 0.2
             }
            },
            "type": "histogram"
           }
          ],
          "histogram2d": [
           {
            "colorbar": {
             "outlinewidth": 0,
             "ticks": ""
            },
            "colorscale": [
             [
              0,
              "#0d0887"
             ],
             [
              0.1111111111111111,
              "#46039f"
             ],
             [
              0.2222222222222222,
              "#7201a8"
             ],
             [
              0.3333333333333333,
              "#9c179e"
             ],
             [
              0.4444444444444444,
              "#bd3786"
             ],
             [
              0.5555555555555556,
              "#d8576b"
             ],
             [
              0.6666666666666666,
              "#ed7953"
             ],
             [
              0.7777777777777778,
              "#fb9f3a"
             ],
             [
              0.8888888888888888,
              "#fdca26"
             ],
             [
              1,
              "#f0f921"
             ]
            ],
            "type": "histogram2d"
           }
          ],
          "histogram2dcontour": [
           {
            "colorbar": {
             "outlinewidth": 0,
             "ticks": ""
            },
            "colorscale": [
             [
              0,
              "#0d0887"
             ],
             [
              0.1111111111111111,
              "#46039f"
             ],
             [
              0.2222222222222222,
              "#7201a8"
             ],
             [
              0.3333333333333333,
              "#9c179e"
             ],
             [
              0.4444444444444444,
              "#bd3786"
             ],
             [
              0.5555555555555556,
              "#d8576b"
             ],
             [
              0.6666666666666666,
              "#ed7953"
             ],
             [
              0.7777777777777778,
              "#fb9f3a"
             ],
             [
              0.8888888888888888,
              "#fdca26"
             ],
             [
              1,
              "#f0f921"
             ]
            ],
            "type": "histogram2dcontour"
           }
          ],
          "mesh3d": [
           {
            "colorbar": {
             "outlinewidth": 0,
             "ticks": ""
            },
            "type": "mesh3d"
           }
          ],
          "parcoords": [
           {
            "line": {
             "colorbar": {
              "outlinewidth": 0,
              "ticks": ""
             }
            },
            "type": "parcoords"
           }
          ],
          "pie": [
           {
            "automargin": true,
            "type": "pie"
           }
          ],
          "scatter": [
           {
            "fillpattern": {
             "fillmode": "overlay",
             "size": 10,
             "solidity": 0.2
            },
            "type": "scatter"
           }
          ],
          "scatter3d": [
           {
            "line": {
             "colorbar": {
              "outlinewidth": 0,
              "ticks": ""
             }
            },
            "marker": {
             "colorbar": {
              "outlinewidth": 0,
              "ticks": ""
             }
            },
            "type": "scatter3d"
           }
          ],
          "scattercarpet": [
           {
            "marker": {
             "colorbar": {
              "outlinewidth": 0,
              "ticks": ""
             }
            },
            "type": "scattercarpet"
           }
          ],
          "scattergeo": [
           {
            "marker": {
             "colorbar": {
              "outlinewidth": 0,
              "ticks": ""
             }
            },
            "type": "scattergeo"
           }
          ],
          "scattergl": [
           {
            "marker": {
             "colorbar": {
              "outlinewidth": 0,
              "ticks": ""
             }
            },
            "type": "scattergl"
           }
          ],
          "scattermapbox": [
           {
            "marker": {
             "colorbar": {
              "outlinewidth": 0,
              "ticks": ""
             }
            },
            "type": "scattermapbox"
           }
          ],
          "scatterpolar": [
           {
            "marker": {
             "colorbar": {
              "outlinewidth": 0,
              "ticks": ""
             }
            },
            "type": "scatterpolar"
           }
          ],
          "scatterpolargl": [
           {
            "marker": {
             "colorbar": {
              "outlinewidth": 0,
              "ticks": ""
             }
            },
            "type": "scatterpolargl"
           }
          ],
          "scatterternary": [
           {
            "marker": {
             "colorbar": {
              "outlinewidth": 0,
              "ticks": ""
             }
            },
            "type": "scatterternary"
           }
          ],
          "surface": [
           {
            "colorbar": {
             "outlinewidth": 0,
             "ticks": ""
            },
            "colorscale": [
             [
              0,
              "#0d0887"
             ],
             [
              0.1111111111111111,
              "#46039f"
             ],
             [
              0.2222222222222222,
              "#7201a8"
             ],
             [
              0.3333333333333333,
              "#9c179e"
             ],
             [
              0.4444444444444444,
              "#bd3786"
             ],
             [
              0.5555555555555556,
              "#d8576b"
             ],
             [
              0.6666666666666666,
              "#ed7953"
             ],
             [
              0.7777777777777778,
              "#fb9f3a"
             ],
             [
              0.8888888888888888,
              "#fdca26"
             ],
             [
              1,
              "#f0f921"
             ]
            ],
            "type": "surface"
           }
          ],
          "table": [
           {
            "cells": {
             "fill": {
              "color": "#EBF0F8"
             },
             "line": {
              "color": "white"
             }
            },
            "header": {
             "fill": {
              "color": "#C8D4E3"
             },
             "line": {
              "color": "white"
             }
            },
            "type": "table"
           }
          ]
         },
         "layout": {
          "annotationdefaults": {
           "arrowcolor": "#2a3f5f",
           "arrowhead": 0,
           "arrowwidth": 1
          },
          "autotypenumbers": "strict",
          "coloraxis": {
           "colorbar": {
            "outlinewidth": 0,
            "ticks": ""
           }
          },
          "colorscale": {
           "diverging": [
            [
             0,
             "#8e0152"
            ],
            [
             0.1,
             "#c51b7d"
            ],
            [
             0.2,
             "#de77ae"
            ],
            [
             0.3,
             "#f1b6da"
            ],
            [
             0.4,
             "#fde0ef"
            ],
            [
             0.5,
             "#f7f7f7"
            ],
            [
             0.6,
             "#e6f5d0"
            ],
            [
             0.7,
             "#b8e186"
            ],
            [
             0.8,
             "#7fbc41"
            ],
            [
             0.9,
             "#4d9221"
            ],
            [
             1,
             "#276419"
            ]
           ],
           "sequential": [
            [
             0,
             "#0d0887"
            ],
            [
             0.1111111111111111,
             "#46039f"
            ],
            [
             0.2222222222222222,
             "#7201a8"
            ],
            [
             0.3333333333333333,
             "#9c179e"
            ],
            [
             0.4444444444444444,
             "#bd3786"
            ],
            [
             0.5555555555555556,
             "#d8576b"
            ],
            [
             0.6666666666666666,
             "#ed7953"
            ],
            [
             0.7777777777777778,
             "#fb9f3a"
            ],
            [
             0.8888888888888888,
             "#fdca26"
            ],
            [
             1,
             "#f0f921"
            ]
           ],
           "sequentialminus": [
            [
             0,
             "#0d0887"
            ],
            [
             0.1111111111111111,
             "#46039f"
            ],
            [
             0.2222222222222222,
             "#7201a8"
            ],
            [
             0.3333333333333333,
             "#9c179e"
            ],
            [
             0.4444444444444444,
             "#bd3786"
            ],
            [
             0.5555555555555556,
             "#d8576b"
            ],
            [
             0.6666666666666666,
             "#ed7953"
            ],
            [
             0.7777777777777778,
             "#fb9f3a"
            ],
            [
             0.8888888888888888,
             "#fdca26"
            ],
            [
             1,
             "#f0f921"
            ]
           ]
          },
          "colorway": [
           "#636efa",
           "#EF553B",
           "#00cc96",
           "#ab63fa",
           "#FFA15A",
           "#19d3f3",
           "#FF6692",
           "#B6E880",
           "#FF97FF",
           "#FECB52"
          ],
          "font": {
           "color": "#2a3f5f"
          },
          "geo": {
           "bgcolor": "white",
           "lakecolor": "white",
           "landcolor": "#E5ECF6",
           "showlakes": true,
           "showland": true,
           "subunitcolor": "white"
          },
          "hoverlabel": {
           "align": "left"
          },
          "hovermode": "closest",
          "mapbox": {
           "style": "light"
          },
          "paper_bgcolor": "white",
          "plot_bgcolor": "#E5ECF6",
          "polar": {
           "angularaxis": {
            "gridcolor": "white",
            "linecolor": "white",
            "ticks": ""
           },
           "bgcolor": "#E5ECF6",
           "radialaxis": {
            "gridcolor": "white",
            "linecolor": "white",
            "ticks": ""
           }
          },
          "scene": {
           "xaxis": {
            "backgroundcolor": "#E5ECF6",
            "gridcolor": "white",
            "gridwidth": 2,
            "linecolor": "white",
            "showbackground": true,
            "ticks": "",
            "zerolinecolor": "white"
           },
           "yaxis": {
            "backgroundcolor": "#E5ECF6",
            "gridcolor": "white",
            "gridwidth": 2,
            "linecolor": "white",
            "showbackground": true,
            "ticks": "",
            "zerolinecolor": "white"
           },
           "zaxis": {
            "backgroundcolor": "#E5ECF6",
            "gridcolor": "white",
            "gridwidth": 2,
            "linecolor": "white",
            "showbackground": true,
            "ticks": "",
            "zerolinecolor": "white"
           }
          },
          "shapedefaults": {
           "line": {
            "color": "#2a3f5f"
           }
          },
          "ternary": {
           "aaxis": {
            "gridcolor": "white",
            "linecolor": "white",
            "ticks": ""
           },
           "baxis": {
            "gridcolor": "white",
            "linecolor": "white",
            "ticks": ""
           },
           "bgcolor": "#E5ECF6",
           "caxis": {
            "gridcolor": "white",
            "linecolor": "white",
            "ticks": ""
           }
          },
          "title": {
           "x": 0.05
          },
          "xaxis": {
           "automargin": true,
           "gridcolor": "white",
           "linecolor": "white",
           "ticks": "",
           "title": {
            "standoff": 15
           },
           "zerolinecolor": "white",
           "zerolinewidth": 2
          },
          "yaxis": {
           "automargin": true,
           "gridcolor": "white",
           "linecolor": "white",
           "ticks": "",
           "title": {
            "standoff": 15
           },
           "zerolinecolor": "white",
           "zerolinewidth": 2
          }
         }
        },
        "title": {
         "text": "Kernel PCA"
        }
       }
      }
     },
     "metadata": {},
     "output_type": "display_data"
    }
   ],
   "source": [
    "from sklearn.pipeline import Pipeline\n",
    "\n",
    "dr = Pipeline(steps=[\n",
    "    (\"scaler\", StandardScaler()),\n",
    "    (\"pca\", KernelPCA(n_components=3))\n",
    "])\n",
    "X_dr = dr.fit_transform(X)\n",
    "X_dr = pd.DataFrame(X_dr, columns=[\"pc1\", \"pc2\", \"pc3\"])\n",
    "X_dr = pd.concat([X_dr, iris_df[\"species\"]], axis=1)\n",
    "px.scatter_3d(X_dr, x=\"pc1\", y=\"pc2\", z=\"pc3\", color=\"species\", title=\"Kernel PCA\")\n"
   ]
  },
  {
   "cell_type": "code",
   "execution_count": 9,
   "metadata": {},
   "outputs": [
    {
     "data": {
      "application/vnd.plotly.v1+json": {
       "config": {
        "plotlyServerURL": "https://plot.ly"
       },
       "data": [
        {
         "hovertemplate": "species=setosa<br>lda1=%{x}<br>lda2=%{y}<extra></extra>",
         "legendgroup": "setosa",
         "marker": {
          "color": "#636efa",
          "symbol": "circle"
         },
         "mode": "markers",
         "name": "setosa",
         "orientation": "v",
         "showlegend": true,
         "type": "scatter",
         "x": [
          8.084953201872505,
          7.147162896290329,
          7.511377889489675,
          6.837675605851525,
          8.15781367059793,
          7.723630867041721,
          7.235146620678869,
          7.629744973982853,
          6.582741317317715,
          7.368841163196141,
          8.42181434211418,
          7.247397214818625,
          7.350621046803484,
          7.596468955509652,
          9.869365877491001,
          9.180336135828757,
          8.59760709003571,
          7.799568199651483,
          8.100009103953047,
          8.045436105202853,
          7.520464269317318,
          7.605263782548542,
          8.70408248676046,
          6.263741387097368,
          6.591915047573134,
          6.792101636501198,
          6.8404809137923115,
          7.948385997831872,
          8.01209273314708,
          6.855895722244183,
          6.783035253518758,
          7.386682376372269,
          9.162494922652629,
          9.496171851736989,
          7.368841163196141,
          7.975652500361768,
          8.631154664452461,
          7.368841163196141,
          6.956022693499501,
          7.7116718256907175,
          7.936135403692115,
          5.669053299953318,
          7.26559733436608,
          6.424498229783557,
          6.886074879987842,
          6.779851042361441,
          8.112327051675377,
          7.210956982033313,
          8.339887490406316,
          7.693451709298062
         ],
         "xaxis": "x",
         "y": [
          -0.3284542184221736,
          0.7554732599151327,
          0.2380783203070863,
          0.6428847596364083,
          -0.540639348611916,
          -1.4823234493674649,
          -0.3771536964267702,
          -0.016672458321413605,
          0.9873742421522426,
          0.9136272938544302,
          -0.6762296762792356,
          0.08292417158960443,
          1.039359695498066,
          0.7767155345185196,
          -1.6148609319227432,
          -2.7555862615031232,
          -1.8544221662817126,
          -0.6090546786638801,
          -0.9961098096184714,
          -1.162443316028228,
          0.156232998770799,
          -1.227572670738965,
          -0.8995941641612523,
          -0.46023935039966657,
          0.36199820927529014,
          0.938236643031029,
          -0.4848486995762641,
          -0.2387155145348393,
          -0.11626908823243119,
          0.517152357992772,
          0.7293374881825144,
          -0.5910172801697381,
          -1.2509416874789538,
          -1.8498958585038756,
          0.9136272938544302,
          0.13519571505484007,
          -0.4346227990156467,
          0.9136272938544302,
          0.6788784573927104,
          -0.01995843366264137,
          -0.6987933825512139,
          1.9032897605265673,
          0.24793624633077005,
          -1.261520725590647,
          -1.0709450593556868,
          0.478158775014654,
          -0.788818176557959,
          0.3343889748768757,
          -0.6729437009380078,
          0.10577396798099493
         ],
         "yaxis": "y"
        },
        {
         "hovertemplate": "species=versicolor<br>lda1=%{x}<br>lda2=%{y}<extra></extra>",
         "legendgroup": "versicolor",
         "marker": {
          "color": "#EF553B",
          "symbol": "circle"
         },
         "mode": "markers",
         "name": "versicolor",
         "orientation": "v",
         "showlegend": true,
         "type": "scatter",
         "x": [
          -1.4577224433306086,
          -1.7976804443018237,
          -2.41680972918978,
          -2.2648677103876813,
          -2.553396930075614,
          -2.419547683547992,
          -2.4471930892944176,
          -0.21602810329903335,
          -1.7459127534924166,
          -1.9583899302506418,
          -1.190238644821321,
          -1.8614071764622349,
          -1.1538657656185811,
          -2.659426070001261,
          -0.38024071308609114,
          -1.2028081516420002,
          -2.762669898831322,
          -0.7622769226163607,
          -3.509407352050447,
          -1.084102157622697,
          -3.718951876749706,
          -0.9993699979740461,
          -3.8370947620367057,
          -2.243443385992507,
          -1.2542842896626534,
          -1.439522323783155,
          -2.4592194842279933,
          -3.5247148132293393,
          -2.5897498124331517,
          0.31197323973346924,
          -1.1023222740153535,
          -0.598443216045835,
          -0.8960588155614096,
          -4.495673790011736,
          -2.9265236022470513,
          -2.101198212487727,
          -2.1436753211085144,
          -2.4834291197187537,
          -1.317923671395288,
          -1.9552930695211026,
          -2.389096969860782,
          -2.2861446938194727,
          -1.2693401917431968,
          -0.28888857202445795,
          -2.000779688443654,
          -1.1691058732148993,
          -1.6092781958692108,
          -1.4181379930783833,
          0.4727100855744555,
          -1.5455714605540016
         ],
         "xaxis": "x",
         "y": [
          -0.04186554167052339,
          -0.48879950832198704,
          0.08234043741709236,
          1.5760917438683986,
          0.46282361768922803,
          0.9572876616739021,
          -0.7955357402963107,
          1.5709651165099805,
          0.8052674573004426,
          0.35044010829793276,
          2.6156129217497566,
          -0.3205014582395928,
          2.6169343534183476,
          0.6341215529934388,
          -0.09211958157289825,
          -0.0956105478015554,
          -0.03156949453022322,
          1.6391754556745142,
          1.6724834976701697,
          1.6100397987200803,
          -1.0350969746552807,
          0.4790203641661804,
          1.3948829226502806,
          1.4107935790078214,
          0.5327653702972124,
          0.1231465330706428,
          0.9196155103643753,
          -0.1637927476243323,
          0.17075770963583553,
          1.2997844611753409,
          1.7357722003637166,
          1.9233479813768615,
          0.8919251767339781,
          0.8792475358274403,
          -0.02499754384776736,
          -1.1871982782607216,
          -0.097136970357576,
          1.9219026580528238,
          0.15753270903894107,
          1.145149532806458,
          1.5823776044314426,
          0.3256257682339057,
          1.2004209614935104,
          1.7831502466997227,
          0.8969707048604136,
          0.5278718731679823,
          0.46274251845724595,
          0.5393373209796682,
          0.7892475623691618,
          0.5851889447596538
         ],
         "yaxis": "y"
        },
        {
         "hovertemplate": "species=virginica<br>lda1=%{x}<br>lda2=%{y}<extra></extra>",
         "legendgroup": "virginica",
         "marker": {
          "color": "#00cc96",
          "symbol": "circle"
         },
         "mode": "markers",
         "name": "virginica",
         "orientation": "v",
         "showlegend": true,
         "type": "scatter",
         "x": [
          -7.8560808340140795,
          -5.515682500090531,
          -6.304993917018445,
          -5.603558877206094,
          -6.863445973738157,
          -7.424818048718603,
          -4.680864467394866,
          -6.313748750366929,
          -6.331988863604787,
          -6.872871263091924,
          -4.453642938190052,
          -5.461109501340336,
          -5.676798249148049,
          -5.9740749391375,
          -6.787820190762351,
          -5.828712908057977,
          -5.066423797608578,
          -6.608471691513943,
          -9.18829265043143,
          -4.765731334208665,
          -6.293054872512642,
          -5.373145773797001,
          -7.585574891404792,
          -4.383675127833192,
          -5.731351251053041,
          -5.275831473529433,
          -4.092320603359269,
          -4.083166869949054,
          -6.532574352594584,
          -4.577647998456973,
          -6.2350061098163785,
          -5.218365816410677,
          -6.817959354815605,
          -3.8097209122338307,
          -5.090234533037604,
          -6.821190922710292,
          -6.541932288365778,
          -4.993563328883153,
          -3.9465996659084204,
          -5.221590021258398,
          -6.678586842834186,
          -5.136877858454946,
          -5.515682500090531,
          -6.811969835717504,
          -6.872891259937128,
          -5.674012938052464,
          -5.197128826669289,
          -4.981711634805129,
          -5.901486026355626,
          -4.684008684861776
         ],
         "xaxis": "x",
         "y": [
          -2.1116190525003615,
          0.04401810578477756,
          -0.4621163768990115,
          0.3423698744012143,
          -0.8160256643219133,
          0.17262650099478274,
          0.5075869400298102,
          0.9606828755888697,
          1.377159753617307,
          -2.694581467935762,
          -1.3369397095003752,
          0.2103516121945342,
          -0.8243571677895765,
          0.10462115271767773,
          -1.5744553009547237,
          -1.9894057564271417,
          0.027302138959226552,
          -1.7420040996073498,
          0.7490980649797098,
          2.144178844495436,
          -1.6337369162190327,
          -0.6315308677625662,
          0.9739078761857642,
          0.12213933086322064,
          -1.2814351505841344,
          0.03848149665150084,
          -0.18307047855508313,
          -0.5177020350472334,
          -0.2872463761341626,
          0.84457526973973,
          0.706218187079782,
          -1.4664491674920785,
          -0.5678468363758691,
          0.9345189645144939,
          2.117756982643406,
          -0.8569837909726677,
          -2.418588414703874,
          -0.18488299123051583,
          -0.607440738934568,
          -1.1361389278903364,
          -1.7853189994758756,
          -1.9764138860594351,
          0.04401810578477756,
          -1.4444015824206806,
          -2.403836991550959,
          -1.6613461506174465,
          0.365505760912017,
          -0.8129728192098722,
          -2.320751337578063,
          -0.3250807259076544
         ],
         "yaxis": "y"
        }
       ],
       "layout": {
        "legend": {
         "title": {
          "text": "species"
         },
         "tracegroupgap": 0
        },
        "template": {
         "data": {
          "bar": [
           {
            "error_x": {
             "color": "#2a3f5f"
            },
            "error_y": {
             "color": "#2a3f5f"
            },
            "marker": {
             "line": {
              "color": "#E5ECF6",
              "width": 0.5
             },
             "pattern": {
              "fillmode": "overlay",
              "size": 10,
              "solidity": 0.2
             }
            },
            "type": "bar"
           }
          ],
          "barpolar": [
           {
            "marker": {
             "line": {
              "color": "#E5ECF6",
              "width": 0.5
             },
             "pattern": {
              "fillmode": "overlay",
              "size": 10,
              "solidity": 0.2
             }
            },
            "type": "barpolar"
           }
          ],
          "carpet": [
           {
            "aaxis": {
             "endlinecolor": "#2a3f5f",
             "gridcolor": "white",
             "linecolor": "white",
             "minorgridcolor": "white",
             "startlinecolor": "#2a3f5f"
            },
            "baxis": {
             "endlinecolor": "#2a3f5f",
             "gridcolor": "white",
             "linecolor": "white",
             "minorgridcolor": "white",
             "startlinecolor": "#2a3f5f"
            },
            "type": "carpet"
           }
          ],
          "choropleth": [
           {
            "colorbar": {
             "outlinewidth": 0,
             "ticks": ""
            },
            "type": "choropleth"
           }
          ],
          "contour": [
           {
            "colorbar": {
             "outlinewidth": 0,
             "ticks": ""
            },
            "colorscale": [
             [
              0,
              "#0d0887"
             ],
             [
              0.1111111111111111,
              "#46039f"
             ],
             [
              0.2222222222222222,
              "#7201a8"
             ],
             [
              0.3333333333333333,
              "#9c179e"
             ],
             [
              0.4444444444444444,
              "#bd3786"
             ],
             [
              0.5555555555555556,
              "#d8576b"
             ],
             [
              0.6666666666666666,
              "#ed7953"
             ],
             [
              0.7777777777777778,
              "#fb9f3a"
             ],
             [
              0.8888888888888888,
              "#fdca26"
             ],
             [
              1,
              "#f0f921"
             ]
            ],
            "type": "contour"
           }
          ],
          "contourcarpet": [
           {
            "colorbar": {
             "outlinewidth": 0,
             "ticks": ""
            },
            "type": "contourcarpet"
           }
          ],
          "heatmap": [
           {
            "colorbar": {
             "outlinewidth": 0,
             "ticks": ""
            },
            "colorscale": [
             [
              0,
              "#0d0887"
             ],
             [
              0.1111111111111111,
              "#46039f"
             ],
             [
              0.2222222222222222,
              "#7201a8"
             ],
             [
              0.3333333333333333,
              "#9c179e"
             ],
             [
              0.4444444444444444,
              "#bd3786"
             ],
             [
              0.5555555555555556,
              "#d8576b"
             ],
             [
              0.6666666666666666,
              "#ed7953"
             ],
             [
              0.7777777777777778,
              "#fb9f3a"
             ],
             [
              0.8888888888888888,
              "#fdca26"
             ],
             [
              1,
              "#f0f921"
             ]
            ],
            "type": "heatmap"
           }
          ],
          "heatmapgl": [
           {
            "colorbar": {
             "outlinewidth": 0,
             "ticks": ""
            },
            "colorscale": [
             [
              0,
              "#0d0887"
             ],
             [
              0.1111111111111111,
              "#46039f"
             ],
             [
              0.2222222222222222,
              "#7201a8"
             ],
             [
              0.3333333333333333,
              "#9c179e"
             ],
             [
              0.4444444444444444,
              "#bd3786"
             ],
             [
              0.5555555555555556,
              "#d8576b"
             ],
             [
              0.6666666666666666,
              "#ed7953"
             ],
             [
              0.7777777777777778,
              "#fb9f3a"
             ],
             [
              0.8888888888888888,
              "#fdca26"
             ],
             [
              1,
              "#f0f921"
             ]
            ],
            "type": "heatmapgl"
           }
          ],
          "histogram": [
           {
            "marker": {
             "pattern": {
              "fillmode": "overlay",
              "size": 10,
              "solidity": 0.2
             }
            },
            "type": "histogram"
           }
          ],
          "histogram2d": [
           {
            "colorbar": {
             "outlinewidth": 0,
             "ticks": ""
            },
            "colorscale": [
             [
              0,
              "#0d0887"
             ],
             [
              0.1111111111111111,
              "#46039f"
             ],
             [
              0.2222222222222222,
              "#7201a8"
             ],
             [
              0.3333333333333333,
              "#9c179e"
             ],
             [
              0.4444444444444444,
              "#bd3786"
             ],
             [
              0.5555555555555556,
              "#d8576b"
             ],
             [
              0.6666666666666666,
              "#ed7953"
             ],
             [
              0.7777777777777778,
              "#fb9f3a"
             ],
             [
              0.8888888888888888,
              "#fdca26"
             ],
             [
              1,
              "#f0f921"
             ]
            ],
            "type": "histogram2d"
           }
          ],
          "histogram2dcontour": [
           {
            "colorbar": {
             "outlinewidth": 0,
             "ticks": ""
            },
            "colorscale": [
             [
              0,
              "#0d0887"
             ],
             [
              0.1111111111111111,
              "#46039f"
             ],
             [
              0.2222222222222222,
              "#7201a8"
             ],
             [
              0.3333333333333333,
              "#9c179e"
             ],
             [
              0.4444444444444444,
              "#bd3786"
             ],
             [
              0.5555555555555556,
              "#d8576b"
             ],
             [
              0.6666666666666666,
              "#ed7953"
             ],
             [
              0.7777777777777778,
              "#fb9f3a"
             ],
             [
              0.8888888888888888,
              "#fdca26"
             ],
             [
              1,
              "#f0f921"
             ]
            ],
            "type": "histogram2dcontour"
           }
          ],
          "mesh3d": [
           {
            "colorbar": {
             "outlinewidth": 0,
             "ticks": ""
            },
            "type": "mesh3d"
           }
          ],
          "parcoords": [
           {
            "line": {
             "colorbar": {
              "outlinewidth": 0,
              "ticks": ""
             }
            },
            "type": "parcoords"
           }
          ],
          "pie": [
           {
            "automargin": true,
            "type": "pie"
           }
          ],
          "scatter": [
           {
            "fillpattern": {
             "fillmode": "overlay",
             "size": 10,
             "solidity": 0.2
            },
            "type": "scatter"
           }
          ],
          "scatter3d": [
           {
            "line": {
             "colorbar": {
              "outlinewidth": 0,
              "ticks": ""
             }
            },
            "marker": {
             "colorbar": {
              "outlinewidth": 0,
              "ticks": ""
             }
            },
            "type": "scatter3d"
           }
          ],
          "scattercarpet": [
           {
            "marker": {
             "colorbar": {
              "outlinewidth": 0,
              "ticks": ""
             }
            },
            "type": "scattercarpet"
           }
          ],
          "scattergeo": [
           {
            "marker": {
             "colorbar": {
              "outlinewidth": 0,
              "ticks": ""
             }
            },
            "type": "scattergeo"
           }
          ],
          "scattergl": [
           {
            "marker": {
             "colorbar": {
              "outlinewidth": 0,
              "ticks": ""
             }
            },
            "type": "scattergl"
           }
          ],
          "scattermapbox": [
           {
            "marker": {
             "colorbar": {
              "outlinewidth": 0,
              "ticks": ""
             }
            },
            "type": "scattermapbox"
           }
          ],
          "scatterpolar": [
           {
            "marker": {
             "colorbar": {
              "outlinewidth": 0,
              "ticks": ""
             }
            },
            "type": "scatterpolar"
           }
          ],
          "scatterpolargl": [
           {
            "marker": {
             "colorbar": {
              "outlinewidth": 0,
              "ticks": ""
             }
            },
            "type": "scatterpolargl"
           }
          ],
          "scatterternary": [
           {
            "marker": {
             "colorbar": {
              "outlinewidth": 0,
              "ticks": ""
             }
            },
            "type": "scatterternary"
           }
          ],
          "surface": [
           {
            "colorbar": {
             "outlinewidth": 0,
             "ticks": ""
            },
            "colorscale": [
             [
              0,
              "#0d0887"
             ],
             [
              0.1111111111111111,
              "#46039f"
             ],
             [
              0.2222222222222222,
              "#7201a8"
             ],
             [
              0.3333333333333333,
              "#9c179e"
             ],
             [
              0.4444444444444444,
              "#bd3786"
             ],
             [
              0.5555555555555556,
              "#d8576b"
             ],
             [
              0.6666666666666666,
              "#ed7953"
             ],
             [
              0.7777777777777778,
              "#fb9f3a"
             ],
             [
              0.8888888888888888,
              "#fdca26"
             ],
             [
              1,
              "#f0f921"
             ]
            ],
            "type": "surface"
           }
          ],
          "table": [
           {
            "cells": {
             "fill": {
              "color": "#EBF0F8"
             },
             "line": {
              "color": "white"
             }
            },
            "header": {
             "fill": {
              "color": "#C8D4E3"
             },
             "line": {
              "color": "white"
             }
            },
            "type": "table"
           }
          ]
         },
         "layout": {
          "annotationdefaults": {
           "arrowcolor": "#2a3f5f",
           "arrowhead": 0,
           "arrowwidth": 1
          },
          "autotypenumbers": "strict",
          "coloraxis": {
           "colorbar": {
            "outlinewidth": 0,
            "ticks": ""
           }
          },
          "colorscale": {
           "diverging": [
            [
             0,
             "#8e0152"
            ],
            [
             0.1,
             "#c51b7d"
            ],
            [
             0.2,
             "#de77ae"
            ],
            [
             0.3,
             "#f1b6da"
            ],
            [
             0.4,
             "#fde0ef"
            ],
            [
             0.5,
             "#f7f7f7"
            ],
            [
             0.6,
             "#e6f5d0"
            ],
            [
             0.7,
             "#b8e186"
            ],
            [
             0.8,
             "#7fbc41"
            ],
            [
             0.9,
             "#4d9221"
            ],
            [
             1,
             "#276419"
            ]
           ],
           "sequential": [
            [
             0,
             "#0d0887"
            ],
            [
             0.1111111111111111,
             "#46039f"
            ],
            [
             0.2222222222222222,
             "#7201a8"
            ],
            [
             0.3333333333333333,
             "#9c179e"
            ],
            [
             0.4444444444444444,
             "#bd3786"
            ],
            [
             0.5555555555555556,
             "#d8576b"
            ],
            [
             0.6666666666666666,
             "#ed7953"
            ],
            [
             0.7777777777777778,
             "#fb9f3a"
            ],
            [
             0.8888888888888888,
             "#fdca26"
            ],
            [
             1,
             "#f0f921"
            ]
           ],
           "sequentialminus": [
            [
             0,
             "#0d0887"
            ],
            [
             0.1111111111111111,
             "#46039f"
            ],
            [
             0.2222222222222222,
             "#7201a8"
            ],
            [
             0.3333333333333333,
             "#9c179e"
            ],
            [
             0.4444444444444444,
             "#bd3786"
            ],
            [
             0.5555555555555556,
             "#d8576b"
            ],
            [
             0.6666666666666666,
             "#ed7953"
            ],
            [
             0.7777777777777778,
             "#fb9f3a"
            ],
            [
             0.8888888888888888,
             "#fdca26"
            ],
            [
             1,
             "#f0f921"
            ]
           ]
          },
          "colorway": [
           "#636efa",
           "#EF553B",
           "#00cc96",
           "#ab63fa",
           "#FFA15A",
           "#19d3f3",
           "#FF6692",
           "#B6E880",
           "#FF97FF",
           "#FECB52"
          ],
          "font": {
           "color": "#2a3f5f"
          },
          "geo": {
           "bgcolor": "white",
           "lakecolor": "white",
           "landcolor": "#E5ECF6",
           "showlakes": true,
           "showland": true,
           "subunitcolor": "white"
          },
          "hoverlabel": {
           "align": "left"
          },
          "hovermode": "closest",
          "mapbox": {
           "style": "light"
          },
          "paper_bgcolor": "white",
          "plot_bgcolor": "#E5ECF6",
          "polar": {
           "angularaxis": {
            "gridcolor": "white",
            "linecolor": "white",
            "ticks": ""
           },
           "bgcolor": "#E5ECF6",
           "radialaxis": {
            "gridcolor": "white",
            "linecolor": "white",
            "ticks": ""
           }
          },
          "scene": {
           "xaxis": {
            "backgroundcolor": "#E5ECF6",
            "gridcolor": "white",
            "gridwidth": 2,
            "linecolor": "white",
            "showbackground": true,
            "ticks": "",
            "zerolinecolor": "white"
           },
           "yaxis": {
            "backgroundcolor": "#E5ECF6",
            "gridcolor": "white",
            "gridwidth": 2,
            "linecolor": "white",
            "showbackground": true,
            "ticks": "",
            "zerolinecolor": "white"
           },
           "zaxis": {
            "backgroundcolor": "#E5ECF6",
            "gridcolor": "white",
            "gridwidth": 2,
            "linecolor": "white",
            "showbackground": true,
            "ticks": "",
            "zerolinecolor": "white"
           }
          },
          "shapedefaults": {
           "line": {
            "color": "#2a3f5f"
           }
          },
          "ternary": {
           "aaxis": {
            "gridcolor": "white",
            "linecolor": "white",
            "ticks": ""
           },
           "baxis": {
            "gridcolor": "white",
            "linecolor": "white",
            "ticks": ""
           },
           "bgcolor": "#E5ECF6",
           "caxis": {
            "gridcolor": "white",
            "linecolor": "white",
            "ticks": ""
           }
          },
          "title": {
           "x": 0.05
          },
          "xaxis": {
           "automargin": true,
           "gridcolor": "white",
           "linecolor": "white",
           "ticks": "",
           "title": {
            "standoff": 15
           },
           "zerolinecolor": "white",
           "zerolinewidth": 2
          },
          "yaxis": {
           "automargin": true,
           "gridcolor": "white",
           "linecolor": "white",
           "ticks": "",
           "title": {
            "standoff": 15
           },
           "zerolinecolor": "white",
           "zerolinewidth": 2
          }
         }
        },
        "title": {
         "text": "LDA"
        },
        "xaxis": {
         "anchor": "y",
         "domain": [
          0,
          1
         ],
         "title": {
          "text": "lda1"
         }
        },
        "yaxis": {
         "anchor": "x",
         "domain": [
          0,
          1
         ],
         "title": {
          "text": "lda2"
         }
        }
       }
      }
     },
     "metadata": {},
     "output_type": "display_data"
    }
   ],
   "source": [
    "dr2 = Pipeline(steps=[\n",
    "    (\"scaler\", StandardScaler()),\n",
    "    (\"lda\", LinearDiscriminantAnalysis(n_components=2))\n",
    "])\n",
    "X_dr2 = dr2.fit_transform(X, iris_df[\"species_id\"])\n",
    "X_dr2 = pd.DataFrame(X_dr2, columns=[\"lda1\", \"lda2\"])\n",
    "X_dr2 = pd.concat([X_dr2, iris_df[\"species\"]], axis=1)\n",
    "X_dr2.plot.scatter(x=\"lda1\", y=\"lda2\", color=\"species\", title=\"LDA\")"
   ]
  },
  {
   "cell_type": "code",
   "execution_count": 10,
   "metadata": {},
   "outputs": [
    {
     "data": {
      "application/vnd.plotly.v1+json": {
       "config": {
        "plotlyServerURL": "https://plot.ly"
       },
       "data": [
        {
         "hovertemplate": "species=setosa<br>tsne1=%{x}<br>tsne2=%{y}<br>tsne3=%{z}<extra></extra>",
         "legendgroup": "setosa",
         "marker": {
          "color": "#636efa",
          "symbol": "circle"
         },
         "mode": "markers",
         "name": "setosa",
         "scene": "scene",
         "showlegend": true,
         "type": "scatter3d",
         "x": [
          -81.14887,
          -26.142881,
          -38.065887,
          -44.25317,
          -78.10197,
          -66.289154,
          -57.467213,
          -48.955673,
          -20.338978,
          -66.65747,
          -65.502975,
          -69.325325,
          -38.4091,
          -22.48437,
          -64.76946,
          -82.99231,
          -82.43598,
          -61.54092,
          -51.17093,
          -66.91246,
          -66.99843,
          -67.1401,
          -71.16629,
          -46.107304,
          62.800236,
          -56.716915,
          -44.7865,
          -77.378204,
          -76.71444,
          48.16113,
          -48.153828,
          -53.80023,
          -61.568558,
          -78.662384,
          -36.062786,
          -58.345394,
          -72.64499,
          -57.394737,
          -33.133114,
          -62.233032,
          -64.52419,
          -17.657053,
          -47.897682,
          -49.34505,
          -53.056435,
          -36.96919,
          -50.831543,
          -43.842716,
          -81.248535,
          -53.480583
         ],
         "y": [
          -3.6351297,
          -40.315357,
          -27.16858,
          -62.15209,
          14.686648,
          49.662727,
          -21.07201,
          -7.1797314,
          -39.390865,
          -39.173637,
          29.741169,
          -18.223633,
          -44.471004,
          -58.188698,
          63.428196,
          61.705948,
          40.113876,
          12.521364,
          50.49742,
          32.767117,
          -4.680375,
          23.89104,
          1.3461479,
          -9.051942,
          54.452877,
          -56.40116,
          0.62335795,
          5.936225,
          -14.602736,
          64.76262,
          -38.914864,
          9.027417,
          49.81275,
          49.891365,
          -26.04075,
          -26.880836,
          14.200802,
          -46.029976,
          -52.06873,
          -5.7817903,
          2.03595,
          -22.824598,
          -42.87903,
          13.498867,
          35.402637,
          -55.720547,
          31.251896,
          -32.6406,
          26.475742,
          -19.457552
         ],
         "z": [
          -4.1283927,
          -7.0827374,
          3.451671,
          -22.798075,
          -0.24499184,
          4.5961514,
          16.768421,
          4.9613104,
          -28.877989,
          -9.429907,
          -25.91969,
          2.6248615,
          -21.29684,
          -20.829903,
          -11.461275,
          -4.076869,
          1.1846225,
          -12.365988,
          -7.9143844,
          -5.952376,
          -34.584812,
          11.505542,
          19.680075,
          -27.672182,
          -7.8756995,
          -7.336486,
          -11.481413,
          -19.48717,
          -20.178974,
          10.460456,
          -7.742659,
          -30.177736,
          -26.014114,
          -17.903835,
          -17.831337,
          -23.76514,
          -35.80736,
          -26.03627,
          -38.38879,
          -14.97774,
          2.0088956,
          -43.370754,
          12.351107,
          3.0332704,
          6.806988,
          -3.5701463,
          -13.610183,
          -36.69565,
          -16.550411,
          -7.872493
         ]
        },
        {
         "hovertemplate": "species=versicolor<br>tsne1=%{x}<br>tsne2=%{y}<br>tsne3=%{z}<extra></extra>",
         "legendgroup": "versicolor",
         "marker": {
          "color": "#EF553B",
          "symbol": "circle"
         },
         "mode": "markers",
         "name": "versicolor",
         "scene": "scene",
         "showlegend": true,
         "type": "scatter3d",
         "x": [
          28.163235,
          8.729735,
          30.515846,
          5.1082683,
          16.24064,
          -4.3007097,
          18.723185,
          -18.88169,
          11.555864,
          -17.467424,
          -0.74955076,
          -8.33241,
          16.146471,
          -9.454262,
          -24.230757,
          12.270223,
          -2.4606538,
          -13.711624,
          33.45524,
          -103.75275,
          17.775955,
          -12.046232,
          34.98073,
          2.8744164,
          -2.0549927,
          16.568785,
          28.88499,
          36.448704,
          4.305738,
          -15.988555,
          -15.668797,
          -3.7802525,
          -23.260256,
          18.41605,
          -7.1282406,
          4.613331,
          26.02834,
          27.06387,
          -20.938406,
          -4.233714,
          -21.796192,
          3.3014402,
          -2.3843157,
          -4.0073085,
          -10.448318,
          -24.918272,
          -9.474625,
          4.0392804,
          -19.906925,
          -18.697622
         ],
         "y": [
          -53.292286,
          -36.273884,
          -38.51741,
          37.077843,
          -5.685527,
          27.340569,
          -35.95626,
          39.128376,
          -24.13182,
          16.582813,
          48.050877,
          -5.1074843,
          53.63388,
          -6.40613,
          25.891846,
          -41.33201,
          11.084559,
          46.99871,
          50.281548,
          15.758541,
          -17.483568,
          -0.17260833,
          28.394812,
          10.138067,
          -22.058477,
          -23.790964,
          -17.625269,
          -24.243168,
          4.1400833,
          52.674973,
          41.657867,
          53.20519,
          32.635967,
          24.565155,
          28.033426,
          -30.861433,
          -37.679974,
          37.299213,
          12.873573,
          31.893185,
          34.290783,
          -15.1311245,
          40.988754,
          28.947424,
          24.30714,
          3.9629545,
          14.614452,
          -7.16628,
          24.055517,
          14.759961
         ],
         "z": [
          -0.1456945,
          17.639488,
          -9.214911,
          -36.125114,
          -14.618955,
          12.43223,
          31.552475,
          -52.475403,
          -16.39541,
          -23.04277,
          -52.618584,
          31.471958,
          -33.28811,
          11.804727,
          24.16699,
          -2.108229,
          41.834583,
          7.297073,
          -22.108292,
          -6.822481,
          42.96338,
          -5.830561,
          -15.592604,
          -2.0161407,
          -3.4544666,
          0.84501547,
          -18.172853,
          1.6512159,
          16.824429,
          -12.52831,
          -33.145645,
          -28.616247,
          4.020765,
          4.1601377,
          38.2656,
          39.915916,
          9.174217,
          -30.766937,
          39.19952,
          -22.225376,
          -15.364075,
          18.845383,
          -5.772129,
          -52.083847,
          -5.3772316,
          24.165482,
          23.501139,
          1.0367309,
          -42.540016,
          7.6512356
         ]
        },
        {
         "hovertemplate": "species=virginica<br>tsne1=%{x}<br>tsne2=%{y}<br>tsne3=%{z}<extra></extra>",
         "legendgroup": "virginica",
         "marker": {
          "color": "#00cc96",
          "symbol": "circle"
         },
         "mode": "markers",
         "name": "virginica",
         "scene": "scene",
         "showlegend": true,
         "type": "scatter3d",
         "x": [
          62.080147,
          24.532001,
          70.03975,
          39.6348,
          57.908726,
          82.7513,
          -1.0712727,
          65.93019,
          53.557026,
          67.83503,
          40.42336,
          45.635605,
          61.87514,
          23.253273,
          37.660954,
          50.990963,
          40.64342,
          55.946037,
          69.821365,
          19.776155,
          71.6838,
          18.560541,
          74.33565,
          35.49522,
          52.577564,
          59.628372,
          24.895823,
          21.79441,
          56.341335,
          49.9769,
          60.68827,
          69.52424,
          56.49178,
          22.041006,
          20.64723,
          80.025894,
          52.792908,
          33.32063,
          10.794016,
          55.199127,
          72.76194,
          78.258575,
          24.532001,
          62.082016,
          71.24567,
          71.00117,
          38.879257,
          49.16652,
          41.310246,
          25.06028
         ],
         "y": [
          -33.98291,
          32.162376,
          -27.023531,
          3.131959,
          -4.796589,
          -25.045414,
          13.731762,
          -29.922577,
          22.534782,
          -60.12809,
          -31.803875,
          22.322023,
          -13.564171,
          46.771137,
          26.955536,
          -22.739536,
          -8.959819,
          -65.155716,
          2.3372467,
          44.95841,
          -39.70029,
          26.418882,
          -13.202696,
          15.133573,
          -44.69614,
          -43.02481,
          12.095623,
          -5.6402555,
          7.6329927,
          -31.48768,
          -14.329033,
          -62.69636,
          13.182133,
          2.4406197,
          19.113707,
          -9.637934,
          -47.354084,
          -19.46919,
          -2.2154558,
          -29.980211,
          -19.804766,
          -22.573286,
          32.162376,
          -29.371006,
          -41.87285,
          -6.5824137,
          34.89055,
          -12.653084,
          -36.552784,
          3.605191
         ],
         "z": [
          53.38501,
          22.266104,
          0.22948152,
          22.232738,
          37.47855,
          -14.695823,
          -34.454872,
          -20.614634,
          -6.0526986,
          25.070826,
          30.604248,
          13.841769,
          10.442558,
          11.22957,
          38.495487,
          43.14497,
          9.042537,
          11.525102,
          -19.308485,
          -14.684808,
          17.525171,
          38.233696,
          -26.318787,
          2.1694171,
          24.896158,
          -3.538585,
          16.281809,
          24.773207,
          12.856937,
          -14.01014,
          -14.270289,
          4.820876,
          28.544828,
          0.21794827,
          -13.017997,
          -6.471469,
          44.80137,
          21.093891,
          35.278835,
          11.57373,
          38.419567,
          19.196571,
          22.266104,
          28.446142,
          37.813194,
          24.331635,
          1.1102933,
          23.802742,
          52.28113,
          39.914875
         ]
        }
       ],
       "layout": {
        "legend": {
         "title": {
          "text": "species"
         },
         "tracegroupgap": 0
        },
        "scene": {
         "domain": {
          "x": [
           0,
           1
          ],
          "y": [
           0,
           1
          ]
         },
         "xaxis": {
          "title": {
           "text": "tsne1"
          }
         },
         "yaxis": {
          "title": {
           "text": "tsne2"
          }
         },
         "zaxis": {
          "title": {
           "text": "tsne3"
          }
         }
        },
        "template": {
         "data": {
          "bar": [
           {
            "error_x": {
             "color": "#2a3f5f"
            },
            "error_y": {
             "color": "#2a3f5f"
            },
            "marker": {
             "line": {
              "color": "#E5ECF6",
              "width": 0.5
             },
             "pattern": {
              "fillmode": "overlay",
              "size": 10,
              "solidity": 0.2
             }
            },
            "type": "bar"
           }
          ],
          "barpolar": [
           {
            "marker": {
             "line": {
              "color": "#E5ECF6",
              "width": 0.5
             },
             "pattern": {
              "fillmode": "overlay",
              "size": 10,
              "solidity": 0.2
             }
            },
            "type": "barpolar"
           }
          ],
          "carpet": [
           {
            "aaxis": {
             "endlinecolor": "#2a3f5f",
             "gridcolor": "white",
             "linecolor": "white",
             "minorgridcolor": "white",
             "startlinecolor": "#2a3f5f"
            },
            "baxis": {
             "endlinecolor": "#2a3f5f",
             "gridcolor": "white",
             "linecolor": "white",
             "minorgridcolor": "white",
             "startlinecolor": "#2a3f5f"
            },
            "type": "carpet"
           }
          ],
          "choropleth": [
           {
            "colorbar": {
             "outlinewidth": 0,
             "ticks": ""
            },
            "type": "choropleth"
           }
          ],
          "contour": [
           {
            "colorbar": {
             "outlinewidth": 0,
             "ticks": ""
            },
            "colorscale": [
             [
              0,
              "#0d0887"
             ],
             [
              0.1111111111111111,
              "#46039f"
             ],
             [
              0.2222222222222222,
              "#7201a8"
             ],
             [
              0.3333333333333333,
              "#9c179e"
             ],
             [
              0.4444444444444444,
              "#bd3786"
             ],
             [
              0.5555555555555556,
              "#d8576b"
             ],
             [
              0.6666666666666666,
              "#ed7953"
             ],
             [
              0.7777777777777778,
              "#fb9f3a"
             ],
             [
              0.8888888888888888,
              "#fdca26"
             ],
             [
              1,
              "#f0f921"
             ]
            ],
            "type": "contour"
           }
          ],
          "contourcarpet": [
           {
            "colorbar": {
             "outlinewidth": 0,
             "ticks": ""
            },
            "type": "contourcarpet"
           }
          ],
          "heatmap": [
           {
            "colorbar": {
             "outlinewidth": 0,
             "ticks": ""
            },
            "colorscale": [
             [
              0,
              "#0d0887"
             ],
             [
              0.1111111111111111,
              "#46039f"
             ],
             [
              0.2222222222222222,
              "#7201a8"
             ],
             [
              0.3333333333333333,
              "#9c179e"
             ],
             [
              0.4444444444444444,
              "#bd3786"
             ],
             [
              0.5555555555555556,
              "#d8576b"
             ],
             [
              0.6666666666666666,
              "#ed7953"
             ],
             [
              0.7777777777777778,
              "#fb9f3a"
             ],
             [
              0.8888888888888888,
              "#fdca26"
             ],
             [
              1,
              "#f0f921"
             ]
            ],
            "type": "heatmap"
           }
          ],
          "heatmapgl": [
           {
            "colorbar": {
             "outlinewidth": 0,
             "ticks": ""
            },
            "colorscale": [
             [
              0,
              "#0d0887"
             ],
             [
              0.1111111111111111,
              "#46039f"
             ],
             [
              0.2222222222222222,
              "#7201a8"
             ],
             [
              0.3333333333333333,
              "#9c179e"
             ],
             [
              0.4444444444444444,
              "#bd3786"
             ],
             [
              0.5555555555555556,
              "#d8576b"
             ],
             [
              0.6666666666666666,
              "#ed7953"
             ],
             [
              0.7777777777777778,
              "#fb9f3a"
             ],
             [
              0.8888888888888888,
              "#fdca26"
             ],
             [
              1,
              "#f0f921"
             ]
            ],
            "type": "heatmapgl"
           }
          ],
          "histogram": [
           {
            "marker": {
             "pattern": {
              "fillmode": "overlay",
              "size": 10,
              "solidity": 0.2
             }
            },
            "type": "histogram"
           }
          ],
          "histogram2d": [
           {
            "colorbar": {
             "outlinewidth": 0,
             "ticks": ""
            },
            "colorscale": [
             [
              0,
              "#0d0887"
             ],
             [
              0.1111111111111111,
              "#46039f"
             ],
             [
              0.2222222222222222,
              "#7201a8"
             ],
             [
              0.3333333333333333,
              "#9c179e"
             ],
             [
              0.4444444444444444,
              "#bd3786"
             ],
             [
              0.5555555555555556,
              "#d8576b"
             ],
             [
              0.6666666666666666,
              "#ed7953"
             ],
             [
              0.7777777777777778,
              "#fb9f3a"
             ],
             [
              0.8888888888888888,
              "#fdca26"
             ],
             [
              1,
              "#f0f921"
             ]
            ],
            "type": "histogram2d"
           }
          ],
          "histogram2dcontour": [
           {
            "colorbar": {
             "outlinewidth": 0,
             "ticks": ""
            },
            "colorscale": [
             [
              0,
              "#0d0887"
             ],
             [
              0.1111111111111111,
              "#46039f"
             ],
             [
              0.2222222222222222,
              "#7201a8"
             ],
             [
              0.3333333333333333,
              "#9c179e"
             ],
             [
              0.4444444444444444,
              "#bd3786"
             ],
             [
              0.5555555555555556,
              "#d8576b"
             ],
             [
              0.6666666666666666,
              "#ed7953"
             ],
             [
              0.7777777777777778,
              "#fb9f3a"
             ],
             [
              0.8888888888888888,
              "#fdca26"
             ],
             [
              1,
              "#f0f921"
             ]
            ],
            "type": "histogram2dcontour"
           }
          ],
          "mesh3d": [
           {
            "colorbar": {
             "outlinewidth": 0,
             "ticks": ""
            },
            "type": "mesh3d"
           }
          ],
          "parcoords": [
           {
            "line": {
             "colorbar": {
              "outlinewidth": 0,
              "ticks": ""
             }
            },
            "type": "parcoords"
           }
          ],
          "pie": [
           {
            "automargin": true,
            "type": "pie"
           }
          ],
          "scatter": [
           {
            "fillpattern": {
             "fillmode": "overlay",
             "size": 10,
             "solidity": 0.2
            },
            "type": "scatter"
           }
          ],
          "scatter3d": [
           {
            "line": {
             "colorbar": {
              "outlinewidth": 0,
              "ticks": ""
             }
            },
            "marker": {
             "colorbar": {
              "outlinewidth": 0,
              "ticks": ""
             }
            },
            "type": "scatter3d"
           }
          ],
          "scattercarpet": [
           {
            "marker": {
             "colorbar": {
              "outlinewidth": 0,
              "ticks": ""
             }
            },
            "type": "scattercarpet"
           }
          ],
          "scattergeo": [
           {
            "marker": {
             "colorbar": {
              "outlinewidth": 0,
              "ticks": ""
             }
            },
            "type": "scattergeo"
           }
          ],
          "scattergl": [
           {
            "marker": {
             "colorbar": {
              "outlinewidth": 0,
              "ticks": ""
             }
            },
            "type": "scattergl"
           }
          ],
          "scattermapbox": [
           {
            "marker": {
             "colorbar": {
              "outlinewidth": 0,
              "ticks": ""
             }
            },
            "type": "scattermapbox"
           }
          ],
          "scatterpolar": [
           {
            "marker": {
             "colorbar": {
              "outlinewidth": 0,
              "ticks": ""
             }
            },
            "type": "scatterpolar"
           }
          ],
          "scatterpolargl": [
           {
            "marker": {
             "colorbar": {
              "outlinewidth": 0,
              "ticks": ""
             }
            },
            "type": "scatterpolargl"
           }
          ],
          "scatterternary": [
           {
            "marker": {
             "colorbar": {
              "outlinewidth": 0,
              "ticks": ""
             }
            },
            "type": "scatterternary"
           }
          ],
          "surface": [
           {
            "colorbar": {
             "outlinewidth": 0,
             "ticks": ""
            },
            "colorscale": [
             [
              0,
              "#0d0887"
             ],
             [
              0.1111111111111111,
              "#46039f"
             ],
             [
              0.2222222222222222,
              "#7201a8"
             ],
             [
              0.3333333333333333,
              "#9c179e"
             ],
             [
              0.4444444444444444,
              "#bd3786"
             ],
             [
              0.5555555555555556,
              "#d8576b"
             ],
             [
              0.6666666666666666,
              "#ed7953"
             ],
             [
              0.7777777777777778,
              "#fb9f3a"
             ],
             [
              0.8888888888888888,
              "#fdca26"
             ],
             [
              1,
              "#f0f921"
             ]
            ],
            "type": "surface"
           }
          ],
          "table": [
           {
            "cells": {
             "fill": {
              "color": "#EBF0F8"
             },
             "line": {
              "color": "white"
             }
            },
            "header": {
             "fill": {
              "color": "#C8D4E3"
             },
             "line": {
              "color": "white"
             }
            },
            "type": "table"
           }
          ]
         },
         "layout": {
          "annotationdefaults": {
           "arrowcolor": "#2a3f5f",
           "arrowhead": 0,
           "arrowwidth": 1
          },
          "autotypenumbers": "strict",
          "coloraxis": {
           "colorbar": {
            "outlinewidth": 0,
            "ticks": ""
           }
          },
          "colorscale": {
           "diverging": [
            [
             0,
             "#8e0152"
            ],
            [
             0.1,
             "#c51b7d"
            ],
            [
             0.2,
             "#de77ae"
            ],
            [
             0.3,
             "#f1b6da"
            ],
            [
             0.4,
             "#fde0ef"
            ],
            [
             0.5,
             "#f7f7f7"
            ],
            [
             0.6,
             "#e6f5d0"
            ],
            [
             0.7,
             "#b8e186"
            ],
            [
             0.8,
             "#7fbc41"
            ],
            [
             0.9,
             "#4d9221"
            ],
            [
             1,
             "#276419"
            ]
           ],
           "sequential": [
            [
             0,
             "#0d0887"
            ],
            [
             0.1111111111111111,
             "#46039f"
            ],
            [
             0.2222222222222222,
             "#7201a8"
            ],
            [
             0.3333333333333333,
             "#9c179e"
            ],
            [
             0.4444444444444444,
             "#bd3786"
            ],
            [
             0.5555555555555556,
             "#d8576b"
            ],
            [
             0.6666666666666666,
             "#ed7953"
            ],
            [
             0.7777777777777778,
             "#fb9f3a"
            ],
            [
             0.8888888888888888,
             "#fdca26"
            ],
            [
             1,
             "#f0f921"
            ]
           ],
           "sequentialminus": [
            [
             0,
             "#0d0887"
            ],
            [
             0.1111111111111111,
             "#46039f"
            ],
            [
             0.2222222222222222,
             "#7201a8"
            ],
            [
             0.3333333333333333,
             "#9c179e"
            ],
            [
             0.4444444444444444,
             "#bd3786"
            ],
            [
             0.5555555555555556,
             "#d8576b"
            ],
            [
             0.6666666666666666,
             "#ed7953"
            ],
            [
             0.7777777777777778,
             "#fb9f3a"
            ],
            [
             0.8888888888888888,
             "#fdca26"
            ],
            [
             1,
             "#f0f921"
            ]
           ]
          },
          "colorway": [
           "#636efa",
           "#EF553B",
           "#00cc96",
           "#ab63fa",
           "#FFA15A",
           "#19d3f3",
           "#FF6692",
           "#B6E880",
           "#FF97FF",
           "#FECB52"
          ],
          "font": {
           "color": "#2a3f5f"
          },
          "geo": {
           "bgcolor": "white",
           "lakecolor": "white",
           "landcolor": "#E5ECF6",
           "showlakes": true,
           "showland": true,
           "subunitcolor": "white"
          },
          "hoverlabel": {
           "align": "left"
          },
          "hovermode": "closest",
          "mapbox": {
           "style": "light"
          },
          "paper_bgcolor": "white",
          "plot_bgcolor": "#E5ECF6",
          "polar": {
           "angularaxis": {
            "gridcolor": "white",
            "linecolor": "white",
            "ticks": ""
           },
           "bgcolor": "#E5ECF6",
           "radialaxis": {
            "gridcolor": "white",
            "linecolor": "white",
            "ticks": ""
           }
          },
          "scene": {
           "xaxis": {
            "backgroundcolor": "#E5ECF6",
            "gridcolor": "white",
            "gridwidth": 2,
            "linecolor": "white",
            "showbackground": true,
            "ticks": "",
            "zerolinecolor": "white"
           },
           "yaxis": {
            "backgroundcolor": "#E5ECF6",
            "gridcolor": "white",
            "gridwidth": 2,
            "linecolor": "white",
            "showbackground": true,
            "ticks": "",
            "zerolinecolor": "white"
           },
           "zaxis": {
            "backgroundcolor": "#E5ECF6",
            "gridcolor": "white",
            "gridwidth": 2,
            "linecolor": "white",
            "showbackground": true,
            "ticks": "",
            "zerolinecolor": "white"
           }
          },
          "shapedefaults": {
           "line": {
            "color": "#2a3f5f"
           }
          },
          "ternary": {
           "aaxis": {
            "gridcolor": "white",
            "linecolor": "white",
            "ticks": ""
           },
           "baxis": {
            "gridcolor": "white",
            "linecolor": "white",
            "ticks": ""
           },
           "bgcolor": "#E5ECF6",
           "caxis": {
            "gridcolor": "white",
            "linecolor": "white",
            "ticks": ""
           }
          },
          "title": {
           "x": 0.05
          },
          "xaxis": {
           "automargin": true,
           "gridcolor": "white",
           "linecolor": "white",
           "ticks": "",
           "title": {
            "standoff": 15
           },
           "zerolinecolor": "white",
           "zerolinewidth": 2
          },
          "yaxis": {
           "automargin": true,
           "gridcolor": "white",
           "linecolor": "white",
           "ticks": "",
           "title": {
            "standoff": 15
           },
           "zerolinecolor": "white",
           "zerolinewidth": 2
          }
         }
        },
        "title": {
         "text": "t-SNE"
        }
       }
      }
     },
     "metadata": {},
     "output_type": "display_data"
    }
   ],
   "source": [
    "dr3 = Pipeline(steps=[\n",
    "    (\"scaler\", StandardScaler()),\n",
    "    (\"tsne\", TSNE(n_components=3))\n",
    "])\n",
    "X_dr3 = dr3.fit_transform(X)\n",
    "X_dr3 = pd.DataFrame(X_dr3, columns=[\"tsne1\", \"tsne2\", \"tsne3\"])\n",
    "X_dr3 = pd.concat([X_dr3, iris_df[\"species\"]], axis=1)\n",
    "px.scatter_3d(X_dr3, x=\"tsne1\", y=\"tsne2\", z=\"tsne3\", color=\"species\", title=\"t-SNE\")"
   ]
  },
  {
   "cell_type": "code",
   "execution_count": null,
   "metadata": {},
   "outputs": [],
   "source": []
  }
 ],
 "metadata": {
  "kernelspec": {
   "display_name": "base",
   "language": "python",
   "name": "python3"
  },
  "language_info": {
   "codemirror_mode": {
    "name": "ipython",
    "version": 3
   },
   "file_extension": ".py",
   "mimetype": "text/x-python",
   "name": "python",
   "nbconvert_exporter": "python",
   "pygments_lexer": "ipython3",
   "version": "3.10.10"
  }
 },
 "nbformat": 4,
 "nbformat_minor": 2
}
